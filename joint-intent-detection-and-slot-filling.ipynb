{
 "cells": [
  {
   "cell_type": "markdown",
   "id": "6e39565f-01fe-4d64-ad1a-83d69e597052",
   "metadata": {},
   "source": [
    "# Joint Intent detection and slot filling\n",
    "Dieses Jupyter notebook wurde als semesterabschließende Arbeit für das Modul Natural Language Processing an der [Fachhochschule Südwestfalen](https://www.fh-swf.de/en/international_3/index.php) erstellt."
   ]
  },
  {
   "cell_type": "markdown",
   "id": "09e89dc9-708f-4c4f-8371-36f810242e7d",
   "metadata": {},
   "source": [
    "## Einleitung\n",
    "Das Joint intent detection and slot filling (IDSF) ist eine Aufgabe aus dem Teilbereich des Natural Language Understandings (NLU) des Natural Language Processings (NLP), die uns in heutzutage fast täglich Alltag begegnet. Sei es um einen Timer auf dem Handy zu starten, bestimmte Musik abzuspielen oder das Licht einzuschalten. Der Ablauf ist dabei häufig der selbe: \"Siri stelle einen Timer für 4 Minuten\", \"Alexa spiele meine Schlager Playlist\" oder \"Google erstelle einen Arzttermin für heute 16:00 Uhr\". Meist beginnen die Kommandos mit dem Namen des Sprachassistenten, um diesen zu aktivieren, gefolgt vom Kommando für die gewünschte Aktion. Das IDSF beschäftigt sich dabei mit der Aufgabe, die gewünschte Aktion (Intent), also stelle einen Timer, Spiele Musik, erstelle einen Termin im Kalender und die dazugehörigen notwendigen Parameter, wie z.B. vier Minuten, Schlager Playlist oder Arzt heute 16:00 Uhr (Slots) zu erkennen.\n",
    "Da der Gebrauch dieser Sprachassistenten in Zukunft wahrscheinlich noch stärker zu nehmen wird, wollen wir uns deren funktionsweise in diesem Notebook näher anschauen. Dafür wird zuerst die Entwicklungshistorie vom IDSF betrachtet und anschließend wird ein eigenes Modell für die Erkennung erstellt und anhand eines selbst vorbereiteten Korpus trainiert."
   ]
  },
  {
   "cell_type": "markdown",
   "id": "77d088a2-b7f1-41f3-bd3b-1858acb800e7",
   "metadata": {},
   "source": [
    "## Joint Intent Detection and Slot filling"
   ]
  },
  {
   "cell_type": "markdown",
   "id": "1f8bb627-85be-4f27-b800-9860a15cb12f",
   "metadata": {},
   "source": [
    "--------------"
   ]
  },
  {
   "cell_type": "markdown",
   "id": "e09f3c76-2bf2-49ff-9c87-6a1841c2c9ef",
   "metadata": {},
   "source": [
    "## Datenbeschaffung\n",
    "\n",
    "Als Datensatz für das nachfolgende Beispiel verwenden wir den Snips-Datensatz. Dieser Datensatz wurde vom, mittlerweil zu Sonos gehörenden [1], [Snips Team](https://snips.ai/) zusammengestellt, um ihr eigenes Modell mit anderen Wettbewerbern wie zum Beispiel Amazons Alexa zu verglichen. Die Ergebnisse und die Datensätze der drei Vergleiche wurden in einem [GitHub Repository](https://github.com/sonos/nlu-benchmark/tree/master) veröffentlicht und in dem Paper \"Snips Voice Platform: an embedded Spoken Language Understanding system for private-by-design voice interfaces\" [2] erläutert. Das Repository enthält die Daten für drei Evaluationen aus den Jahren 2016 bis 2018. Wir werden in diesem Notebook die Daten der 2017 durchgeführten Evaluation verwenden, da diese Sätze für sieben unterschiedliche und allgemeine Aufgaben enthält.\n",
    "\n",
    "Die Daten sind im dem Repository in einzelnen JSON-Dateien enthalten. Dabei gibt es pro Aufgabe zwei Dateien, eine für das Training und eine für die Validierung. Der Einfachheit halber wurden die Dateien in dem data Verzeichnis, dass diesem Notebook beiliegt, abgelegt.\n",
    "\n",
    "Nachfolgend ist ein Auszug aus der `train_AddToPlaylist_full.json`-Datei."
   ]
  },
  {
   "cell_type": "code",
   "execution_count": 15,
   "id": "b04077bd-4c1c-475b-bd64-997f7afd2ef0",
   "metadata": {
    "tags": []
   },
   "outputs": [
    {
     "name": "stdout",
     "output_type": "stream",
     "text": [
      "{\n",
      "  \"AddToPlaylist\": [\n",
      "    {\n",
      "      \"data\": [\n",
      "        {\n",
      "          \"text\": \"Add another \"\n",
      "        },\n",
      "        {\n",
      "          \"text\": \"song\",\n",
      "          \"entity\": \"music_item\"\n",
      "        },\n",
      "        {\n",
      "          \"text\": \" to the \"\n",
      "        },\n",
      "        {\n",
      "          \"text\": \"Cita Romántica\",\n",
      "          \"entity\": \"playlist\"\n",
      "        },\n",
      "        {\n",
      "          \"text\": \" playlist. \"\n",
      "        }\n",
      "      ]\n",
      "    },\n",
      "    {\n",
      "      \"data\": [\n",
      "        {\n",
      "          \"text\": \"add \"\n",
      "        },\n",
      "        {\n",
      "          \"text\": \"clem burke\",\n",
      "          \"entity\": \"artist\"\n",
      "        },\n",
      "        {\n",
      "          \"text\": \" in \"\n",
      "        },\n",
      "        {\n",
      "          \"text\": \"my\",\n",
      "          \"entity\": \"playlist_owner\"\n",
      "        },\n",
      "        {\n",
      "          \"text\": \" playlist \"\n",
      "        },\n",
      "        {\n",
      "          \"text\": \"Pre-Party R&B Jams\",\n",
      "          \"entity\": \"playlist\"\n",
      "        }\n",
      "      ]\n",
      "    },\n"
     ]
    }
   ],
   "source": [
    "!head -n 48 data/train_AddToPlaylist_full.json"
   ]
  },
  {
   "cell_type": "markdown",
   "id": "a7977d9c-5cc6-4725-9386-46716911c4f5",
   "metadata": {},
   "source": [
    "Die Datei besteht an oberster Stelle aus dem Namen der gewünschten Aktion gefolgt von einer Liste an Objekten mit einem `Data` Attribut. Dieses enthält wiederum eine Liste von Objekten mit `Text` Attributen die den Satz in Teilen enthält. Dabei wird der Satz durch den Text eines definierten `Entities` geteilt. So enthält das erste Beispiel den Text bis zum ersten `entity` das als `music_item` klassifiziert wurde und wieder den gesamten Text bis zum nächsten entity, dem Namen einer Playlist."
   ]
  },
  {
   "cell_type": "markdown",
   "id": "e9c5966d-61dc-45af-8107-2fbf9f55b2de",
   "metadata": {},
   "source": [
    "Als nächstes werden die Daten in ein verwendbares Format transformiert. Ein in der Natural language processing gängiges Format ist das IOB Format. IOB steht für Inside-Outside-Beginning. Dieses Format ermöglicht die Kennzeichnung der einzelnen Entitäten in einem Satz. Es wird unteranderem von den weit verbreiteten Python Bibliotheken `NLTK` und `spaCy` unterstützt [3, 4]. Das Format wurde 1995 von Lance A. Ramshaw und Mitchell P. Marcus erfunden.\n",
    "\n",
    "Dieses Beispiel zeigt das Format einer Zeile, welches nachfolgend aus den JSON-Dateien erzeugt wird.\n",
    "\n",
    "    BOS add clem burke in my playlist Pre-Party R&B Jams EOS o o b-mucic_item i-music_item o i-playlist_owner o b-playlist i-playlist i-playlist\n",
    "    \n",
    "Am Beginn der Zeile steht der vollständige Satz abgetrennt durch ein BOS (begin of sentence) am Anfang des Satzes und ein EOS (end of sentence) am Ende des Satzes. Nun folgt das eigentliche IOB-Format. Dabei wird für jeden Token entweder der Buchstabe 'o', dieser steht für keine Bedeutung, der Buchstabe 'b', für den Beginn einer Entität die aus mehreren Token besteht, oder 'i', als Entität. Das 'i' steht dabei entweder nach einem 'b' wodurch eine Entität gekennzeichent wird, die aus mehreren Token besteht oder alleine für eine Entität die aus nur einem Token besteht.  Das 'b' und 'i' werden dabei jeweils gefolgt vom einem trennenden Bindestrich und der Entitätskategorie verwender. So ist der Name 'Clem Burke' unterteilt in ein `b-music_item` für Clem und `i-Music_item` für Burke. Dadurch wird definiert, dass die beiden Teile zusammen gehören.\n",
    "\n",
    "Das IOB2 Format ist eine Erweiterung des originalen IOB Formats. Es definiert das auch eine Entität die nur aus einem Token besteht mit einem 'b' kodiert wird und nicht wie im IOB Format mit einem 'i'. Dadurch ergibt sich das folgende Format:\n",
    "\n",
    "    BOS add clem burke in my playlist Pre-Party R&B Jams EOS o o b-mucic_item i-music_item o b-playlist_owner o b-playlist i-playlist i-playlist\n",
    "    \n",
    "\n",
    "Mit dem folgenden Python Code wird der Inhalt der im data-Verzeichnis liegenden Dateien in das vorgestellte Format transformiert. Die Dateien werden dabei im Verzeichnis `data/corpus` und einem Verzeichnis mit dem Titel der Intent-Kategorie abgelegt. Als Dateinamen werden `UUID`s verwendet. \n"
   ]
  },
  {
   "cell_type": "code",
   "execution_count": 1,
   "id": "f23b37ed-4ed4-4f10-b47f-d9856cac14ac",
   "metadata": {},
   "outputs": [],
   "source": [
    "import os\n",
    "import json\n",
    "import re\n",
    "from shutil import rmtree\n",
    "import uuid"
   ]
  },
  {
   "cell_type": "code",
   "execution_count": 2,
   "id": "049daa05-aa7a-4076-b36a-f4deb1ee1e26",
   "metadata": {},
   "outputs": [
    {
     "name": "stdout",
     "output_type": "stream",
     "text": [
      "Alte Corpus-Dateien gelöscht\n",
      "Das Pfad data existiert nicht oder ist kein Verzeichnis.\n",
      "Try converting file at path data/validate_PlayMusic.json\n",
      "Finished converting file at path data/validate_PlayMusic.json. Writing to file...\n",
      "Try converting file at path data/train_SearchCreativeWork_full.json\n",
      "Finished converting file at path data/train_SearchCreativeWork_full.json. Writing to file...\n",
      "Try converting file at path data/train_AddToPlaylist_full.json\n",
      "Finished converting file at path data/train_AddToPlaylist_full.json. Writing to file...\n",
      "Try converting file at path data/train_RateBook_full.json\n",
      "Finished converting file at path data/train_RateBook_full.json. Writing to file...\n",
      "Try converting file at path data/train_SearchScreeningEvent_full.json\n",
      "Finished converting file at path data/train_SearchScreeningEvent_full.json. Writing to file...\n",
      "Try converting file at path data/validate_GetWeather.json\n",
      "Finished converting file at path data/validate_GetWeather.json. Writing to file...\n",
      "Try converting file at path data/validate_SearchCreativeWork.json\n",
      "Finished converting file at path data/validate_SearchCreativeWork.json. Writing to file...\n",
      "Try converting file at path data/train_GetWeather_full.json\n",
      "Finished converting file at path data/train_GetWeather_full.json. Writing to file...\n",
      "Try converting file at path data/train_PlayMusic_full.json\n",
      "Finished converting file at path data/train_PlayMusic_full.json. Writing to file...\n",
      "Try converting file at path data/validate_RateBook.json\n",
      "Finished converting file at path data/validate_RateBook.json. Writing to file...\n",
      "Try converting file at path data/validate_AddToPlaylist.json\n",
      "Finished converting file at path data/validate_AddToPlaylist.json. Writing to file...\n",
      "Try converting file at path data/validate_BookRestaurant.json\n",
      "Finished converting file at path data/validate_BookRestaurant.json. Writing to file...\n",
      "Try converting file at path data/train_BookRestaurant_full.json\n",
      "Finished converting file at path data/train_BookRestaurant_full.json. Writing to file...\n",
      "Try converting file at path data/validate_SearchScreeningEvent.json\n",
      "Finished converting file at path data/validate_SearchScreeningEvent.json. Writing to file...\n",
      "Finished converting all files!\n"
     ]
    }
   ],
   "source": [
    "def clean_formatted(formatted_directory_path):\n",
    "    if not os.path.exists(formatted_directory_path) or not os.path.isdir(formatted_directory_path):\n",
    "        print(f'Pfad {formatted_directory_path} ist kein Verzeichnis oder existiert nicht')\n",
    "        return\n",
    "\n",
    "    rmtree(formatted_directory_path)\n",
    "    print('Alte Corpus-Dateien gelöscht')\n",
    "\n",
    "def convert_file(json_file_path, corpus_root):\n",
    "    print(f'Try converting file at path {json_file_path}')\n",
    "    if not os.path.isfile(json_file_path):\n",
    "        print(f'File {file_path} does not exists', json_file_path)\n",
    "        return \n",
    "    formatted_lines = []\n",
    "    intent_category = None\n",
    "    all_slots_set = set()\n",
    "    all_slots_set.add('o')\n",
    "    with open(json_file_path, 'r', encoding='latin-1') as json_file:\n",
    "        json_content = json.load(json_file)\n",
    "        intent_category = next(iter(json_content))\n",
    "        for sentence_block in json_content[intent_category]:\n",
    "            sentence = []\n",
    "            slots = []\n",
    "            for sentence_data_block in sentence_block['data']:\n",
    "                sentence_part = sentence_data_block['text']\n",
    "                sentence_part = re.sub('\\n', '', sentence_part)\n",
    "                if sentence_part != '':\n",
    "                    sentence.append(sentence_part.strip())\n",
    "                sentence_part_len = len(sentence_part.split())\n",
    "                if 'entity' in sentence_data_block:\n",
    "                    entity_type = sentence_data_block['entity']\n",
    "                    if sentence_part_len > 1:\n",
    "                        firstSlot = True\n",
    "                        for i in range(sentence_part_len):\n",
    "                            if firstSlot:\n",
    "                                slots.append('b-' + entity_type)\n",
    "                                firstSlot = False\n",
    "                                all_slots_set.add('b-' + entity_type)\n",
    "                            else:\n",
    "                                slots.append('i-' + entity_type)\n",
    "                                all_slots_set.add('i-' + entity_type)\n",
    "                    else:\n",
    "                        slots.append('b-' + entity_type)\n",
    "                        all_slots_set.add('b-' + entity_type)\n",
    "                else:\n",
    "                    for i in range(sentence_part_len):\n",
    "                        slots.append('o')\n",
    "            formatted_lines.append(construct_row(sentence, intent_category, slots))\n",
    "    print(f'Finished converting file at path {json_file_path}. Writing to file...')\n",
    "    write_to_file(intent_category, formatted_lines, corpus_root)\n",
    "    return all_slots_set, intent_category\n",
    "    \n",
    "\n",
    "def construct_row(sentence, intent, slots):\n",
    "    row = ''\n",
    "    row += ' '.join(sentence)\n",
    "    row += '#!#'\n",
    "    row += intent\n",
    "    row += '#!#'\n",
    "    row += ' '.join(slots)\n",
    "    row += '\\n'\n",
    "    return row\n",
    "\n",
    "\n",
    "def write_to_file(intent, lines, corpus_root):\n",
    "    if intent is None or intent == '':\n",
    "        print('No intent')\n",
    "        return\n",
    "        \n",
    "    base_output_directory = corpus_root\n",
    "    output_file_path = base_output_directory + intent + '/' + str(uuid.uuid4()) + '.txt'\n",
    "\n",
    "    if not os.path.exists(base_output_directory + intent): \n",
    "        os.makedirs(base_output_directory + intent)\n",
    "    \n",
    "    with open(output_file_path, 'a') as output_file:\n",
    "        output_file.writelines(lines)\n",
    "\n",
    "\n",
    "def save_in_file(corpus_root, data, filename):\n",
    "    with open(corpus_root + filename + '.txt', 'w') as file:\n",
    "        lines = [line + \"\\n\" for line in data]\n",
    "        file.writelines(lines)\n",
    "\n",
    "\n",
    "def iterate_over_json_files_in_directory(directory_path, corpus_root):\n",
    "    if not os.path.exists(directory_path) or directory_path is not os.path.isdir(directory_path):\n",
    "        print(f\"Das Pfad {directory_path} existiert nicht oder ist kein Verzeichnis.\")\n",
    "\n",
    "    slots = set()\n",
    "    slots.add(\"UNK\")\n",
    "    slots.add(\"PAD\")\n",
    "    intents = set()\n",
    "    intents.add(\"UNK\")\n",
    "    for filename in os.listdir(directory_path):\n",
    "        if filename.endswith(\".json\"):  # Nur JSON-Dateien berücksichtigen\n",
    "            file_path = os.path.join(directory_path, filename)\n",
    "            slots_from_file, intent_category = convert_file(file_path, corpus_root)\n",
    "        slots.update(slots_from_file)\n",
    "        intents.add(intent_category)\n",
    "\n",
    "    save_in_file(corpus_root, slots, 'slots')\n",
    "    save_in_file(corpus_root, intents, 'intents')\n",
    "    print('Finished converting all files!')\n",
    "    \n",
    "    \n",
    "clean_formatted('data/corpus')\n",
    "iterate_over_json_files_in_directory('data', 'data/corpus/')"
   ]
  },
  {
   "cell_type": "markdown",
   "id": "e8c2dd92-a1b1-404d-b1af-e13fa5ebbfa4",
   "metadata": {},
   "source": [
    "Als nächstes wird geprüft, ob auch alle Einträge in der Textdatei enthalten sind. Dafür werden die Einträge in der train- und validate.json mit der Anzahl der Zeilen in der Textdatei verglichen."
   ]
  },
  {
   "cell_type": "code",
   "execution_count": 3,
   "id": "99108436-e37e-4954-be8d-66a2e8104be9",
   "metadata": {},
   "outputs": [
    {
     "name": "stdout",
     "output_type": "stream",
     "text": [
      "wc: data/formatted/RateBook.txt: No such file or directory\n"
     ]
    }
   ],
   "source": [
    "!wc -l data/formatted/RateBook.txt"
   ]
  },
  {
   "cell_type": "code",
   "execution_count": 4,
   "id": "579d5d3c-fc2a-490c-98fe-c98bf612674c",
   "metadata": {},
   "outputs": [
    {
     "name": "stdout",
     "output_type": "stream",
     "text": [
      "\u001b[0;39m1956\u001b[0m\n"
     ]
    }
   ],
   "source": [
    "!jq '.RateBook | length' data/train_RateBook_full.json"
   ]
  },
  {
   "cell_type": "code",
   "execution_count": 5,
   "id": "431915fc-2450-4617-aad4-37ecd6e94991",
   "metadata": {},
   "outputs": [
    {
     "name": "stdout",
     "output_type": "stream",
     "text": [
      "\u001b[0;39m100\u001b[0m\n"
     ]
    }
   ],
   "source": [
    "!jq '.RateBook | length' data/validate_RateBook.json"
   ]
  },
  {
   "cell_type": "markdown",
   "id": "8490f728-7789-4273-902a-8f9f11235122",
   "metadata": {},
   "source": [
    "Man sieht, dass die Anzahl der `data`-Blöcke aus den JSON-Dateien der Anzahl der Zeilen in der erzeugten Textdatei entspricht. Die Konvertierung war also erfolgreich."
   ]
  },
  {
   "cell_type": "code",
   "execution_count": 21,
   "id": "d32f47ef-983c-4ba5-a359-a808e2cf2a39",
   "metadata": {},
   "outputs": [
    {
     "name": "stdout",
     "output_type": "stream",
     "text": [
      "BOS rate The Lotus and the Storm zero of 6 EOS RateBook o b-object_name i-object_name i-object_name i-object_name i-object_name b-rating_value o b-best_rating\n",
      "BOS Rate The Fall-Down Artist 5 stars. EOS RateBook o b-object_name i-object_name i-object_name b-rating_value b-rating_unit o\n",
      "BOS Rate the current novel one points EOS RateBook o o b-object_select b-object_type b-rating_value b-rating_unit\n",
      "BOS rate The Ape-Man Within 4 EOS RateBook o b-object_name i-object_name i-object_name b-rating_value\n",
      "BOS I give The Penalty three stars EOS RateBook o o b-object_name i-object_name b-rating_value b-rating_unit\n",
      "BOS rate this novel a 4 EOS RateBook o b-object_select b-object_type o b-rating_value\n",
      "BOS give 5 out of 6 points to Absolutely, Positively Not series EOS RateBook o b-rating_value o o b-best_rating b-rating_unit o b-object_name i-object_name i-object_name b-object_part_of_series_type\n",
      "BOS I give Emile, or On Education five points. EOS RateBook o o b-object_name i-object_name i-object_name i-object_name b-rating_value b-rating_unit o\n",
      "BOS rate Licence Renewed a 4 EOS RateBook o b-object_name i-object_name o b-rating_value\n",
      "BOS Give this essay a 2 out of 6. EOS RateBook o b-object_select b-object_type o b-rating_value o o b-best_rating o\n"
     ]
    }
   ],
   "source": [
    "!head -n 10 data/formatted/RateBook.txt"
   ]
  },
  {
   "cell_type": "markdown",
   "id": "c4e9ff63-9acc-462e-b20b-c39fcb78caf4",
   "metadata": {},
   "source": [
    "Quellen\n",
    "\n",
    "* 1: https://investors.sonos.com/news-and-events/investor-news/latest-news/2019/Sonos-Announces-Acquisition-of-Snips/default.aspx, [Online, 07.03.2025]\n",
    "* 2: Coucke A. et al., \"Snips Voice Platform: an embedded Spoken Language Understanding system for private-by-design voice interfaces.\" 2018, [Online: https://arxiv.org/abs/1805.10190, 07.03.2025]\n",
    "* 3: NLTK Team, tree2conlltags, [Online: https://www.nltk.org/_modules/nltk/chunk/util.html#tree2conlltags, 13.03.2025]\n",
    "* 4: Explosion, spaCy convert, [Online: https://spacy.io/api/cli#converters, 13.03.2025]\n",
    "* 5: Ramshaw und Marcus, \"Text Chunking using Transformation-Based Learning\" 1995, [Online: https://arxiv.org/abs/cmp-lg/9505040, 14.03.2025]"
   ]
  },
  {
   "cell_type": "markdown",
   "id": "511baabd-4337-4292-9483-482fd44392e8",
   "metadata": {},
   "source": [
    "## Erstellen eines Corpus"
   ]
  },
  {
   "cell_type": "markdown",
   "id": "24cc2109-e2af-4849-a245-6867a42bea03",
   "metadata": {},
   "source": [
    "Nachdem nun die Daten in ein verwendbares Format tranformiert wurden, müssen wir den effiziente Zugriff auf die Daten sicherstellen. Dafür bietet die Python-Bibliothek NLTK verschiedene `CorpusReader` Klassen zur Verfügung. Diese Klassen ermöglichen über Methoden den Zugriff auf die Dokumente selbst, sowie auf weitere Dateien eines Corpus, wie zum Beispiel die Lizenz des Corpus oder eine README.md Datei. NLTK bietet eine große Anzahl an CorpusReadern für verschiedenste Szenarien an. Ein einfacher CorpusReader ist der `PlainTextCorpusReader` [7]. Dieser bietet Zugriff auf reine Textdateien. Eine vollständige Liste ist in der [Dokumentation](https://www.nltk.org/api/nltk.corpus.reader.html) von NLTK zu finden.\n",
    "\n",
    "Für das zuvor definierte Format gibt es keinen passenden vorgefertigten Reader. Daher müssen wir einen eigenen erstellen. Dafür kann die `CorpusReader`-Basisklasse [8] erweitert werden oder ein bestehender verwendet werden. Wir werden den `CategorizedPlaintextCorpusReader` als Basis verwenden. Dieser ist eine Erweiterung des zuvor erwähnten `PlainTextCorpusReader`, welcher Zugriff auf Textdateien bietet.  Durch die Nutzung des `CategorizedPlaintextCorpusReader` können die Dateien zusätzlich in Kategorien unterteilt werden. Dies geschieht über reguläre Ausdrücke. Im nachfolgenden Code definiert der reguläre Ausdruck _category_pattern_ die Kategorie als den Namen des Verzeichnisses, indem die Textdateien liegen."
   ]
  },
  {
   "cell_type": "code",
   "execution_count": 1,
   "id": "b3c56201-542f-4d46-8644-27e5da9e9475",
   "metadata": {},
   "outputs": [],
   "source": [
    "from nltk.corpus.reader import CategorizedPlaintextCorpusReader\n",
    "from nltk import wordpunct_tokenize\n",
    "import codecs"
   ]
  },
  {
   "cell_type": "code",
   "execution_count": 2,
   "id": "fe06789a-d306-4896-a9f9-0640f8d0d888",
   "metadata": {},
   "outputs": [],
   "source": [
    "class IOBCorpusReader(CategorizedPlaintextCorpusReader):\n",
    "    \n",
    "    def __init__(self, root, fileids, cat_pattern, encoding='utf-8'):\n",
    "        super().__init__(root, fileids, cat_pattern=cat_pattern, encoding=encoding)\n",
    "        self.corpus_root = root\n",
    "\n",
    "    def resolve(self, fileids=None, categories=None):\n",
    "\n",
    "        if fileids is not None and categories is not None:\n",
    "            raise ValueError('Specify only one')\n",
    "\n",
    "        if categories is not None:\n",
    "            return self.fileids(categories)\n",
    "        else:\n",
    "            return fileids\n",
    "\n",
    "    def docs(self, fileids=None, categories=None):\n",
    "\n",
    "        fileids = self.resolve(fileids, categories)\n",
    "\n",
    "        for path, encoding in self.abspaths(fileids, include_encoding=True):\n",
    "            with codecs.open(path, 'r', encoding=encoding) as file:\n",
    "                yield file.read()\n",
    "        \n",
    "    def lines(self, fileids=None, categories=None):\n",
    "\n",
    "        for doc in self.docs(fileids, categories):\n",
    "            for line in doc.split('\\n'):\n",
    "                yield line\n",
    "\n",
    "    def line_parts(self, fileids=None, categories=None):\n",
    "\n",
    "        for line in self.lines(fileids, categories):\n",
    "            if line == '':\n",
    "                continue\n",
    "            yield line.split('#!#')\n",
    "\n",
    "    def intents(self, fileids=None, categories=None):\n",
    "\n",
    "        for sentence, intent, labels in self.line_parts(fileids, categories):\n",
    "            yield intent\n",
    "\n",
    "    def count_intents(self, fileids=None, categories=None):\n",
    "        \n",
    "        intents = set(intent for sentence, intent, labels in self.intents(fileids, categories))\n",
    "        return len(intents)\n",
    "\n",
    "    def slots(self, fileids=None, categories=None):\n",
    "\n",
    "        for sentence, intent, slots in self.line_parts(fileids, categories):\n",
    "            yield slots.split()\n",
    "\n",
    "    def count_slots(self, fileids=None, categories=None):\n",
    "        slots = set()\n",
    "        for entry in self.slots(fileids, categories):\n",
    "            for token in entry:\n",
    "                slots.add(token)\n",
    "        return len(slots)\n",
    "\n",
    "    def sentences(self, fileids=None, categories=None):\n",
    "\n",
    "        for sentence, intent, labels in self.line_parts(fileids, categories):\n",
    "            yield sentence\n",
    "\n",
    "    def sentences_and_labels(self, fileids=None, categories=None):\n",
    "\n",
    "        for sentence, intent, slots in self.line_parts(fileids, categories):\n",
    "            yield sentence, intent, slots\n",
    "\n",
    "    def all_slots(self):\n",
    "        with open(self.corpus_root + '/slots.txt', 'r') as slots_file:\n",
    "            return slots_file.read().splitlines()\n",
    "\n",
    "    def all_labels(self):\n",
    "        with open(self.corpus_root + '/intents.txt', 'r') as intents_file:\n",
    "            return intents_file.read().splitlines()\n",
    "\n",
    "    \n",
    "file_pattern = r'.*/[0-9a-f]{8}-[0-9a-f]{4}-4[0-9a-f]{3}-[89ab][0-9a-f]{3}-[0-9a-f]{12}\\.txt'\n",
    "category_pattern = r'([^/]+)/[^/]+\\.txt$'\n",
    "corpus = IOBCorpusReader('data/corpus', file_pattern, cat_pattern=category_pattern)\n",
    "        "
   ]
  },
  {
   "cell_type": "markdown",
   "id": "3fe06743-f036-4612-8817-ef65f0714b1f",
   "metadata": {},
   "source": [
    "Quellen\n",
    "\n",
    "* 6: Bengfort, Benjamin, et al. Applied Text Analysis with Python : Enabling Language-Aware Data Products with Machine Learning, O'Reilly Media, Incorporated, 2018. ProQuest Ebook Central, https://ebookcentral.proquest.com/lib/fh-swf/detail.action?docID=5425029.\n",
    "* 7: NLTK Project, PlainTextCorpusReader, 2024, [Online: https://www.nltk.org/api/nltk.corpus.reader.plaintext.html#nltk.corpus.reader.plaintext.PlaintextCorpusReader, 17.03.2025]\n",
    "* 8: NLTK project, CorpusReader, 2024, [Online: https://www.nltk.org/api/nltk.corpus.reader#nltk.corpus.reader.CorpusReader, 17.03.2025]"
   ]
  },
  {
   "cell_type": "markdown",
   "id": "24959113-27fe-480f-8dd0-19719694440b",
   "metadata": {},
   "source": [
    "## Modelle"
   ]
  },
  {
   "cell_type": "markdown",
   "id": "08fb037c-df46-409b-8d55-2a25fcf727aa",
   "metadata": {},
   "source": [
    "Nachdem nun die Daten vorbereitet wurden und der Zugriff über einen CorpusReader komfortabel möglich ist. Widmen wir uns den Modellen die wir für die Analyse der Infos nutzen wollen.\n",
    "Zuerst werden zwei getrennte Modelle verwendet. Eines für die Intent Klassifikation und eines für die Bestimmung der Slots. Anschließend wird der neuere Ansatz der gemeinsamen Bestimmung des Intents und der Slots gezeigt. Dieses Ansatz bringt den Vorteil, dass der Text nur einmal verareitet werden muss. Zusätzlich bringt es den Vorteil, dass die Zusammenhänge von Intents und Slots berücksichtigt werden können. So kann der Intent oder die Slots jeweils helfen, das andere Ergebnis zu verbessern. Ein Beispiel wäre die Buchung von einem Flug oder einem Tisch in einem Restaurant. So kann ein Satz zur Buchung mit zwei enthaltenen Ortsangaben besser kategorisiert werden, wenn etwas über den Kontext bekannt ist. Sind zwei Städte in dem Befehl angegeben handelt es sich wahrscheinlich eher um die Buchung eines Fluges anstatt der Buchung in einem Restaurant. Wohingegen die Buchung eines Restaurant eher auf nur eine Stadt hindeutet und die zweite Ortsangabe eventuell aufschluss über einen Stadtteil oder die gewüschte Lage des Tisches gibt."
   ]
  },
  {
   "cell_type": "code",
   "execution_count": 3,
   "id": "0e052f41-aa2d-4b4a-9515-1b12387bccc6",
   "metadata": {},
   "outputs": [],
   "source": [
    "import torch\n",
    "from transformers import BertTokenizer, BertForSequenceClassification, Trainer, TrainingArguments, BertForTokenClassification\n",
    "from datasets import Dataset\n",
    "from sklearn.model_selection import train_test_split\n",
    "from sklearn.metrics import precision_score, recall_score, f1_score"
   ]
  },
  {
   "cell_type": "markdown",
   "id": "477e5ce8-5ccc-4445-bb51-77cf4f78a99a",
   "metadata": {},
   "source": [
    "Zuerst holen wir die Daten für das Training aus dem Corpus. Dafür werden die Methoden für die einzelnen Bestandteile verwendet. Anschließend verwenden wir die Funktion `train_test_split` aus dem SciKit-Learn Paket um diese in Trainings- und Validierungsteile zu trennen."
   ]
  },
  {
   "cell_type": "code",
   "execution_count": 4,
   "id": "d4af26ee-e332-4a01-9e1b-16c5fc60d2fa",
   "metadata": {},
   "outputs": [],
   "source": [
    "sentences = list(corpus.sentences())\n",
    "intents = list(corpus.intents())\n",
    "slots = list(corpus.slots())\n",
    "\n",
    "train_sentences, test_sentences, train_intents, test_intents, train_slots, test_slots = train_test_split(\n",
    "    sentences, intents, slots, test_size=0.2, random_state=42\n",
    ")"
   ]
  },
  {
   "cell_type": "markdown",
   "id": "11300492-e2b4-4189-ab09-fb0950ba9a22",
   "metadata": {},
   "source": [
    "In den nachfolgenden Beispielen werden Varianten des BERT Modells verwenden. BERT ist ein bidirektionaler encoder-only Transformer. Es wurde im Oktober 2018 von Forschern bei Google vorgestellt. BERT wurde mittels 'masked token prediction', also das Vorhersagen eines maskierten Tokens basierend auf den vorherigen Token, auf dem BookCorpus und dem Englischen Wikipedia trainiert. Durch seine Architektur kann ein bereits trainiertes BERT Modell durch das hinzufügen einer einzigen neuen Schicht für verschiedenste Aufgaben angepasst werden [9].\n",
    "In den folgenden Beispielen werden die von HuggingFace bereitgestellten Varianten verwendet. Die Transformers Bibliothek von HuggingFace bietet unter anderem folgende Varianten von Bert an: `BertForNextSentencePrediction`, `BertForQuestionAnswering` und, für unser Beispiel relevant, `BertForSequenceClassification` für die Klassifikation von Sätzen und `BertForTokenClassification` für die Klassifizierung von einzelnen Token, in diesem Fall Wörtern, an [10].\n",
    "BERT ist außerdem in verschiedenen Ausführungen verfügbar die sich in der Anzahl der Parameter und den verwendeten Trainigsdaten unterscheiden. Im weiteren Verlauf wird als Basis das `bert-base-uncased` Modell verwendet. Dieses besitzt 110M Parameter und wurde auf einem 'uncased' Datensatz, nur Kleinbuchstaben, trainiert. Als weitere Ausführungen gibt es noch die 'large' Variante mit 340M Parametern und jeweils eine 'cased' Variante mit Groß- und Kleinschreibung [11]."
   ]
  },
  {
   "cell_type": "markdown",
   "id": "064a0b32-7d72-42f6-82f6-86f8e0f3cd1a",
   "metadata": {},
   "source": [
    "Quellen:\n",
    "\n",
    "* 9: Jacob Devlin and Ming-Wei Chang and Kenton Lee and Kristina Toutanova, BERT: Pre-training of Deep Bidirectional Transformers for Language Understanding, 2018, [Online: https://arxiv.org/abs/1810.04805, 23.06.2025]\n",
    "* 10: HuggingFace Inc., Transformers BERT, 2025, [Online: https://arxiv.org/abs/1810.04805, 23.06.2025]\n",
    "* 11: HuggingFace Inc., BERT release, 2025, [Online: https://huggingface.co/collections/google/bert-release-64ff5e7a4be99045d1896dbc, 23.06.2025]"
   ]
  },
  {
   "cell_type": "markdown",
   "id": "45ccf3ca-8734-4ff6-8175-a0909d51c623",
   "metadata": {},
   "source": [
    "Da in den nachfolgenden Beispielen immer ein Tokenizer benötigt wird und dieser nicht Modellunanhängig sein muss, wird er hier zu Anfang ein defineirt."
   ]
  },
  {
   "cell_type": "code",
   "execution_count": 5,
   "id": "be27f4f6-98d4-440c-b808-982798f48158",
   "metadata": {},
   "outputs": [],
   "source": [
    "tokenizer = BertTokenizer.from_pretrained(\"bert-base-uncased\")"
   ]
  },
  {
   "cell_type": "markdown",
   "id": "1f3f8785-8039-4b61-9412-4c098fcd3bde",
   "metadata": {},
   "source": [
    "### Intent Detection"
   ]
  },
  {
   "cell_type": "markdown",
   "id": "3f82e491-5bb3-4bdf-8226-b48e53e5a72e",
   "metadata": {},
   "source": [
    "Vor der eigentlichen Erstellung des Modells werden zwei Funktionen definiert, die für später genutzt werden.\n",
    "`encode_examples` erstellt ein Dictionary der codierten Sätze, der attention_masks und der Intents.\n",
    "`compute_metrics_intent` ist eine Funktion für den HF-Trainer um die Precision, den Recall und den F1-Score zu berechnen."
   ]
  },
  {
   "cell_type": "code",
   "execution_count": 6,
   "id": "122e9e89-4bc6-43ef-a2ee-aa37722fe65a",
   "metadata": {},
   "outputs": [],
   "source": [
    "def compute_metrics_intent(pred):\n",
    "    predictions = pred.predictions.argmax(axis=1)\n",
    "    labels = pred.label_ids\n",
    "\n",
    "    precision = precision_score(labels, predictions, average='weighted', zero_division=0)\n",
    "    recall = recall_score(labels, predictions, average='weighted', zero_division=0)\n",
    "    f1 = f1_score(labels, predictions, average='weighted', zero_division=0)\n",
    "\n",
    "    return {\n",
    "        \"precision\": precision,\n",
    "        \"recall\": recall,\n",
    "        \"f1\": f1\n",
    "    }\n",
    "\n",
    "def encode_examples(examples):\n",
    "    return {\n",
    "        \"input_ids\": torch.tensor(examples[\"input_ids\"]),\n",
    "        \"attention_mask\": torch.tensor(examples[\"attention_mask\"]),\n",
    "        \"labels\": torch.tensor(examples[\"labels\"])\n",
    "    }"
   ]
  },
  {
   "cell_type": "markdown",
   "id": "aad73a39-0461-42ce-9539-8a39bb208fcc",
   "metadata": {},
   "source": [
    "In der folgenden Zelle trainieren wir das `BertForSequenceClassification` Modell für die Klassifikation der Intents aus unseren Daten.\n",
    "Zuerst wird der `BertTokenizer` verwendet um aus den Sätzen die Encodings zu erstellen. Durch die Parameter padding werden die Sätze auf eine einheitliche Länge gebracht, indem Padding-Token angehangen werden. Sätze die Länger als die vom Modell unterstützte Länge sind werden mit dem Parameter `truncation` gekürzt.\n",
    "Im zweiten Abschnitt werden die Text-Intents in Nummernlabel umgewandelt.\n",
    "Anschließend werden die Encodings in `Datasets` umgewandelt dabei werden die erzeugten \"input_ids\" und die \"attention_mask\", die die Padding-Token vom eigentlichen Satz unterscheidet, verwendet.\n",
    "Die vorbereiteten Daten werden dann mit einem HuggingFace `Trainer` für das Training an des BertForSequenceClassification Modell übergeben und das Modell trainiert."
   ]
  },
  {
   "cell_type": "code",
   "execution_count": 7,
   "id": "d4402abf-6ff4-4365-99fb-3e53e92a492a",
   "metadata": {},
   "outputs": [
    {
     "data": {
      "application/vnd.jupyter.widget-view+json": {
       "model_id": "a93796933dc14727b3c69bde74279e9a",
       "version_major": 2,
       "version_minor": 0
      },
      "text/plain": [
       "Map:   0%|          | 0/11587 [00:00<?, ? examples/s]"
      ]
     },
     "metadata": {},
     "output_type": "display_data"
    },
    {
     "data": {
      "application/vnd.jupyter.widget-view+json": {
       "model_id": "dcde64d81df6425997456840a803da79",
       "version_major": 2,
       "version_minor": 0
      },
      "text/plain": [
       "Map:   0%|          | 0/2897 [00:00<?, ? examples/s]"
      ]
     },
     "metadata": {},
     "output_type": "display_data"
    },
    {
     "name": "stderr",
     "output_type": "stream",
     "text": [
      "Some weights of BertForSequenceClassification were not initialized from the model checkpoint at bert-base-uncased and are newly initialized: ['classifier.bias', 'classifier.weight']\n",
      "You should probably TRAIN this model on a down-stream task to be able to use it for predictions and inference.\n",
      "/opt/conda/lib/python3.11/site-packages/torch/nn/parallel/parallel_apply.py:79: FutureWarning: `torch.cuda.amp.autocast(args...)` is deprecated. Please use `torch.amp.autocast('cuda', args...)` instead.\n",
      "  with torch.cuda.device(device), torch.cuda.stream(stream), autocast(enabled=autocast_enabled):\n",
      "/opt/conda/lib/python3.11/site-packages/torch/nn/parallel/_functions.py:68: UserWarning: Was asked to gather along dimension 0, but all input tensors were scalars; will instead unsqueeze and return a vector.\n",
      "  warnings.warn('Was asked to gather along dimension 0, but all '\n"
     ]
    },
    {
     "data": {
      "text/html": [
       "\n",
       "    <div>\n",
       "      \n",
       "      <progress value='546' max='546' style='width:300px; height:20px; vertical-align: middle;'></progress>\n",
       "      [546/546 02:46, Epoch 3/3]\n",
       "    </div>\n",
       "    <table border=\"1\" class=\"dataframe\">\n",
       "  <thead>\n",
       " <tr style=\"text-align: left;\">\n",
       "      <th>Epoch</th>\n",
       "      <th>Training Loss</th>\n",
       "      <th>Validation Loss</th>\n",
       "      <th>Precision</th>\n",
       "      <th>Recall</th>\n",
       "      <th>F1</th>\n",
       "    </tr>\n",
       "  </thead>\n",
       "  <tbody>\n",
       "    <tr>\n",
       "      <td>1</td>\n",
       "      <td>No log</td>\n",
       "      <td>0.065570</td>\n",
       "      <td>0.985526</td>\n",
       "      <td>0.985502</td>\n",
       "      <td>0.985498</td>\n",
       "    </tr>\n",
       "    <tr>\n",
       "      <td>2</td>\n",
       "      <td>No log</td>\n",
       "      <td>0.053801</td>\n",
       "      <td>0.986215</td>\n",
       "      <td>0.986193</td>\n",
       "      <td>0.986170</td>\n",
       "    </tr>\n",
       "    <tr>\n",
       "      <td>3</td>\n",
       "      <td>0.192700</td>\n",
       "      <td>0.052314</td>\n",
       "      <td>0.985163</td>\n",
       "      <td>0.985157</td>\n",
       "      <td>0.985118</td>\n",
       "    </tr>\n",
       "  </tbody>\n",
       "</table><p>"
      ],
      "text/plain": [
       "<IPython.core.display.HTML object>"
      ]
     },
     "metadata": {},
     "output_type": "display_data"
    },
    {
     "name": "stderr",
     "output_type": "stream",
     "text": [
      "/opt/conda/lib/python3.11/site-packages/torch/nn/parallel/parallel_apply.py:79: FutureWarning: `torch.cuda.amp.autocast(args...)` is deprecated. Please use `torch.amp.autocast('cuda', args...)` instead.\n",
      "  with torch.cuda.device(device), torch.cuda.stream(stream), autocast(enabled=autocast_enabled):\n",
      "/opt/conda/lib/python3.11/site-packages/torch/nn/parallel/_functions.py:68: UserWarning: Was asked to gather along dimension 0, but all input tensors were scalars; will instead unsqueeze and return a vector.\n",
      "  warnings.warn('Was asked to gather along dimension 0, but all '\n",
      "/opt/conda/lib/python3.11/site-packages/torch/nn/parallel/parallel_apply.py:79: FutureWarning: `torch.cuda.amp.autocast(args...)` is deprecated. Please use `torch.amp.autocast('cuda', args...)` instead.\n",
      "  with torch.cuda.device(device), torch.cuda.stream(stream), autocast(enabled=autocast_enabled):\n",
      "/opt/conda/lib/python3.11/site-packages/torch/nn/parallel/_functions.py:68: UserWarning: Was asked to gather along dimension 0, but all input tensors were scalars; will instead unsqueeze and return a vector.\n",
      "  warnings.warn('Was asked to gather along dimension 0, but all '\n",
      "/opt/conda/lib/python3.11/site-packages/torch/nn/parallel/parallel_apply.py:79: FutureWarning: `torch.cuda.amp.autocast(args...)` is deprecated. Please use `torch.amp.autocast('cuda', args...)` instead.\n",
      "  with torch.cuda.device(device), torch.cuda.stream(stream), autocast(enabled=autocast_enabled):\n",
      "/opt/conda/lib/python3.11/site-packages/torch/nn/parallel/_functions.py:68: UserWarning: Was asked to gather along dimension 0, but all input tensors were scalars; will instead unsqueeze and return a vector.\n",
      "  warnings.warn('Was asked to gather along dimension 0, but all '\n",
      "/opt/conda/lib/python3.11/site-packages/torch/nn/parallel/parallel_apply.py:79: FutureWarning: `torch.cuda.amp.autocast(args...)` is deprecated. Please use `torch.amp.autocast('cuda', args...)` instead.\n",
      "  with torch.cuda.device(device), torch.cuda.stream(stream), autocast(enabled=autocast_enabled):\n",
      "/opt/conda/lib/python3.11/site-packages/torch/nn/parallel/_functions.py:68: UserWarning: Was asked to gather along dimension 0, but all input tensors were scalars; will instead unsqueeze and return a vector.\n",
      "  warnings.warn('Was asked to gather along dimension 0, but all '\n"
     ]
    },
    {
     "data": {
      "text/plain": [
       "TrainOutput(global_step=546, training_loss=0.1785444818136893, metrics={'train_runtime': 172.4637, 'train_samples_per_second': 201.555, 'train_steps_per_second': 3.166, 'total_flos': 732427682531850.0, 'train_loss': 0.1785444818136893, 'epoch': 3.0})"
      ]
     },
     "execution_count": 7,
     "metadata": {},
     "output_type": "execute_result"
    }
   ],
   "source": [
    "train_encodings = tokenizer(train_sentences, padding=True, truncation=True, return_tensors=\"pt\")\n",
    "test_encodings = tokenizer(test_sentences, padding=True, truncation=True, return_tensors=\"pt\")\n",
    "\n",
    "intent_label_mapping = {intent: i for i, intent in enumerate(set(train_intents))}\n",
    "train_labels = torch.tensor([intent_label_mapping[intent] for intent in train_intents])\n",
    "test_labels = torch.tensor([intent_label_mapping[intent] for intent in test_intents])\n",
    "\n",
    "train_dataset = Dataset.from_dict({\n",
    "    \"input_ids\": train_encodings[\"input_ids\"],\n",
    "    \"attention_mask\": train_encodings[\"attention_mask\"],\n",
    "    \"labels\": train_labels\n",
    "})\n",
    "\n",
    "test_dataset = Dataset.from_dict({\n",
    "    \"input_ids\": test_encodings[\"input_ids\"],\n",
    "    \"attention_mask\": test_encodings[\"attention_mask\"],\n",
    "    \"labels\": test_labels\n",
    "})\n",
    "\n",
    "train_dataset = train_dataset.map(encode_examples, batched=True)\n",
    "test_dataset = test_dataset.map(encode_examples, batched=True)\n",
    "\n",
    "model_intent = BertForSequenceClassification.from_pretrained(\"bert-base-uncased\", num_labels=len(intent_label_mapping))\n",
    "\n",
    "training_args_intent = TrainingArguments(\n",
    "    output_dir=\"./intent_results\",\n",
    "    learning_rate=2e-5,\n",
    "    per_device_train_batch_size=16,\n",
    "    per_device_eval_batch_size=16,\n",
    "    num_train_epochs=3,\n",
    "    eval_strategy=\"epoch\",\n",
    "    logging_dir=None,\n",
    "    report_to=[]\n",
    ")\n",
    "\n",
    "trainer_intent = Trainer(\n",
    "    model=model_intent,\n",
    "    args=training_args_intent,\n",
    "    train_dataset=train_dataset,\n",
    "    eval_dataset=test_dataset,\n",
    "    compute_metrics=compute_metrics_intent\n",
    ")\n",
    "\n",
    "trainer_intent.train()\n"
   ]
  },
  {
   "cell_type": "markdown",
   "id": "e2473d92-4f79-4b50-a35e-55bb67a5ebab",
   "metadata": {},
   "source": [
    "### Slot Filling"
   ]
  },
  {
   "cell_type": "markdown",
   "id": "65b37c59-9957-4e56-8b46-ece1f1a32525",
   "metadata": {},
   "source": [
    "Da jetzt das Modell für die Klassifikation der Sätze zu den Intents fertig ist, behandeln wir im nächsten Schritt das Modell für die Klassifikation der Token.\n",
    "Da der BertTokenizer Wörter in Subwords unterteilt kann es passieren, dass die IOB-Label nicht mehr zu passen. Um dies zu beheben sorgt die nachfolgende Funktion dafür, dass bei einem Subword, welche immer mit einem `##` gekenzeichnet sind, ein entsprechenes IOB-Label eingefügt wird."
   ]
  },
  {
   "cell_type": "code",
   "execution_count": 8,
   "id": "2f569a22-3552-4b38-830b-2d034c32e607",
   "metadata": {},
   "outputs": [],
   "source": [
    "def align_labels_with_iob_and_collect_set(encoded_sentences, labels, tokenizer):\n",
    "    aligned_labels = []\n",
    "    new_labels_set = set()\n",
    "    \n",
    "    for input_ids, sentence_labels in zip(encoded_sentences[\"input_ids\"], labels):\n",
    "        expanded_labels = []\n",
    "        label_index = 0\n",
    "        \n",
    "        for token_id in input_ids:\n",
    "            token = tokenizer.convert_ids_to_tokens([token_id])[0]\n",
    "            \n",
    "            if token.startswith(\"##\"):\n",
    "                # Subword bekommt ein I-Label (falls vorhanden)\n",
    "                if sentence_labels[label_index].startswith(\"B-\"):\n",
    "                    new_label = \"I-\" + sentence_labels[label_index][2:]\n",
    "                    expanded_labels.append(new_label)\n",
    "                else:\n",
    "                    new_label = sentence_labels[label_index]\n",
    "                    expanded_labels.append(new_label)\n",
    "            else:\n",
    "                # Hauptwörter bekommen das ursprüngliche Label\n",
    "                new_label = sentence_labels[label_index]\n",
    "                expanded_labels.append(new_label)\n",
    "                label_index += 1\n",
    "            \n",
    "            # Füge das neue Label zum Set hinzu\n",
    "            new_labels_set.add(new_label)\n",
    "\n",
    "            # Sicherheitscheck, um Index-Überläufe zu vermeiden\n",
    "            if label_index >= len(sentence_labels):\n",
    "                break\n",
    "\n",
    "        aligned_labels.append(expanded_labels)\n",
    "    \n",
    "    return aligned_labels, new_labels_set\n"
   ]
  },
  {
   "cell_type": "markdown",
   "id": "ae928ca7-2a74-4307-ab4d-5844d470d78d",
   "metadata": {},
   "source": [
    "Zunächst werden einige Funktionen definiert, die nachfolgend benötogt werden.\n",
    "Die `pad_labels` Funktion sorgt dafür dass die Label auf eine einheitliche Länge gebracht werden, in sie auf die `max_len` mit dem Wert des `PAD` Label aufgefüllt werden.\n",
    "`encode_examples_slots` erstellt ein Dictionary der codierten Sätze, der attention_masks und der Slot Label.\n",
    "`compute_metrics_slots` berechnet wieder die Precision, den Recall und den F1-Score."
   ]
  },
  {
   "cell_type": "code",
   "execution_count": 9,
   "id": "d65196cf-9c88-47d7-acc4-e8a3d93c2a71",
   "metadata": {},
   "outputs": [],
   "source": [
    "def pad_labels(labels, max_len):\n",
    "    return [label + [slot_label_mapping[\"PAD\"]] * (max_len - len(label)) for label in labels]\n",
    "\n",
    "def encode_examples_slots(examples):\n",
    "    return {\n",
    "        \"input_ids\": torch.tensor(examples[\"input_ids\"]),\n",
    "        \"attention_mask\": torch.tensor(examples[\"attention_mask\"]),\n",
    "        \"labels\": torch.tensor(examples[\"labels\"])\n",
    "    }\n",
    "\n",
    "def compute_metrics_slots(pred):\n",
    "    predictions = pred.predictions.argmax(-1)\n",
    "    labels = pred.label_ids\n",
    "\n",
    "    PAD_LABEL_ID = slot_label_mapping[\"PAD\"]\n",
    "\n",
    "    true_preds = []\n",
    "    true_labels = []\n",
    "\n",
    "    for pred_seq, label_seq in zip(predictions, labels):\n",
    "        for p, l in zip(pred_seq, label_seq):\n",
    "            if l != PAD_LABEL_ID:\n",
    "                true_preds.append(p)\n",
    "                true_labels.append(l)\n",
    "\n",
    "    precision = precision_score(true_labels, true_preds, average='weighted', zero_division=0)\n",
    "    recall = recall_score(true_labels, true_preds, average='weighted', zero_division=0)\n",
    "    f1 = f1_score(true_labels, true_preds, average='weighted', zero_division=0)\n",
    "\n",
    "    return {\n",
    "        \"precision\": precision,\n",
    "        \"recall\": recall,\n",
    "        \"f1\": f1\n",
    "    }"
   ]
  },
  {
   "cell_type": "markdown",
   "id": "f2c9d85f-31c5-4999-a749-8c97953d8b07",
   "metadata": {},
   "source": [
    "Bei diesem Modell ist das Vorgehen, wie bei dem Vorherigen. Die Label werden mit dem Tokenizer verarbeitet und danach mit der zuvor definierten Funktion aufbereitet. Die Aufbereitung gibt als Ergebnis zunächst die Label zurück und eine Liste an neu erstellten Label. Dies ist notwendig da durch die Aufteilung in Subwords, zuvor nicht vorkommende I-Label entstanden sein können.\n",
    "Jetzt wird mit dem Labeln des Corpus und den neuen Labeln wieder ein Mapping auf Zahlen durchgeführt.\n",
    "Die codierten Label werden dann auf eine gemeinsame Länge gepadded und anschließend wieder in ein `Dataset` überführt und mittels des Trainers für das Training des Modells verwendet."
   ]
  },
  {
   "cell_type": "code",
   "execution_count": 10,
   "id": "1980a38e-a689-4f72-aa7a-4f9d69b25521",
   "metadata": {},
   "outputs": [
    {
     "data": {
      "application/vnd.jupyter.widget-view+json": {
       "model_id": "38af6dc594ad4818b24bbf26ddc9a90e",
       "version_major": 2,
       "version_minor": 0
      },
      "text/plain": [
       "Map:   0%|          | 0/11587 [00:00<?, ? examples/s]"
      ]
     },
     "metadata": {},
     "output_type": "display_data"
    },
    {
     "data": {
      "application/vnd.jupyter.widget-view+json": {
       "model_id": "47fb1123dcb245a781a3a2acf03ac391",
       "version_major": 2,
       "version_minor": 0
      },
      "text/plain": [
       "Map:   0%|          | 0/2897 [00:00<?, ? examples/s]"
      ]
     },
     "metadata": {},
     "output_type": "display_data"
    },
    {
     "name": "stderr",
     "output_type": "stream",
     "text": [
      "Some weights of BertForTokenClassification were not initialized from the model checkpoint at bert-base-uncased and are newly initialized: ['classifier.bias', 'classifier.weight']\n",
      "You should probably TRAIN this model on a down-stream task to be able to use it for predictions and inference.\n",
      "/opt/conda/lib/python3.11/site-packages/torch/nn/parallel/parallel_apply.py:79: FutureWarning: `torch.cuda.amp.autocast(args...)` is deprecated. Please use `torch.amp.autocast('cuda', args...)` instead.\n",
      "  with torch.cuda.device(device), torch.cuda.stream(stream), autocast(enabled=autocast_enabled):\n",
      "/opt/conda/lib/python3.11/site-packages/torch/nn/parallel/_functions.py:68: UserWarning: Was asked to gather along dimension 0, but all input tensors were scalars; will instead unsqueeze and return a vector.\n",
      "  warnings.warn('Was asked to gather along dimension 0, but all '\n"
     ]
    },
    {
     "data": {
      "text/html": [
       "\n",
       "    <div>\n",
       "      \n",
       "      <progress value='910' max='910' style='width:300px; height:20px; vertical-align: middle;'></progress>\n",
       "      [910/910 04:23, Epoch 5/5]\n",
       "    </div>\n",
       "    <table border=\"1\" class=\"dataframe\">\n",
       "  <thead>\n",
       " <tr style=\"text-align: left;\">\n",
       "      <th>Epoch</th>\n",
       "      <th>Training Loss</th>\n",
       "      <th>Validation Loss</th>\n",
       "      <th>Precision</th>\n",
       "      <th>Recall</th>\n",
       "      <th>F1</th>\n",
       "    </tr>\n",
       "  </thead>\n",
       "  <tbody>\n",
       "    <tr>\n",
       "      <td>1</td>\n",
       "      <td>No log</td>\n",
       "      <td>0.318107</td>\n",
       "      <td>0.665397</td>\n",
       "      <td>0.711081</td>\n",
       "      <td>0.659778</td>\n",
       "    </tr>\n",
       "    <tr>\n",
       "      <td>2</td>\n",
       "      <td>No log</td>\n",
       "      <td>0.174112</td>\n",
       "      <td>0.807961</td>\n",
       "      <td>0.814915</td>\n",
       "      <td>0.802271</td>\n",
       "    </tr>\n",
       "    <tr>\n",
       "      <td>3</td>\n",
       "      <td>0.393100</td>\n",
       "      <td>0.131389</td>\n",
       "      <td>0.852416</td>\n",
       "      <td>0.861328</td>\n",
       "      <td>0.850952</td>\n",
       "    </tr>\n",
       "    <tr>\n",
       "      <td>4</td>\n",
       "      <td>0.393100</td>\n",
       "      <td>0.112277</td>\n",
       "      <td>0.877828</td>\n",
       "      <td>0.878709</td>\n",
       "      <td>0.873426</td>\n",
       "    </tr>\n",
       "    <tr>\n",
       "      <td>5</td>\n",
       "      <td>0.393100</td>\n",
       "      <td>0.107126</td>\n",
       "      <td>0.882207</td>\n",
       "      <td>0.882856</td>\n",
       "      <td>0.878313</td>\n",
       "    </tr>\n",
       "  </tbody>\n",
       "</table><p>"
      ],
      "text/plain": [
       "<IPython.core.display.HTML object>"
      ]
     },
     "metadata": {},
     "output_type": "display_data"
    },
    {
     "name": "stderr",
     "output_type": "stream",
     "text": [
      "/opt/conda/lib/python3.11/site-packages/torch/nn/parallel/parallel_apply.py:79: FutureWarning: `torch.cuda.amp.autocast(args...)` is deprecated. Please use `torch.amp.autocast('cuda', args...)` instead.\n",
      "  with torch.cuda.device(device), torch.cuda.stream(stream), autocast(enabled=autocast_enabled):\n",
      "/opt/conda/lib/python3.11/site-packages/torch/nn/parallel/_functions.py:68: UserWarning: Was asked to gather along dimension 0, but all input tensors were scalars; will instead unsqueeze and return a vector.\n",
      "  warnings.warn('Was asked to gather along dimension 0, but all '\n",
      "/opt/conda/lib/python3.11/site-packages/torch/nn/parallel/parallel_apply.py:79: FutureWarning: `torch.cuda.amp.autocast(args...)` is deprecated. Please use `torch.amp.autocast('cuda', args...)` instead.\n",
      "  with torch.cuda.device(device), torch.cuda.stream(stream), autocast(enabled=autocast_enabled):\n",
      "/opt/conda/lib/python3.11/site-packages/torch/nn/parallel/_functions.py:68: UserWarning: Was asked to gather along dimension 0, but all input tensors were scalars; will instead unsqueeze and return a vector.\n",
      "  warnings.warn('Was asked to gather along dimension 0, but all '\n",
      "/opt/conda/lib/python3.11/site-packages/torch/nn/parallel/parallel_apply.py:79: FutureWarning: `torch.cuda.amp.autocast(args...)` is deprecated. Please use `torch.amp.autocast('cuda', args...)` instead.\n",
      "  with torch.cuda.device(device), torch.cuda.stream(stream), autocast(enabled=autocast_enabled):\n",
      "/opt/conda/lib/python3.11/site-packages/torch/nn/parallel/_functions.py:68: UserWarning: Was asked to gather along dimension 0, but all input tensors were scalars; will instead unsqueeze and return a vector.\n",
      "  warnings.warn('Was asked to gather along dimension 0, but all '\n",
      "/opt/conda/lib/python3.11/site-packages/torch/nn/parallel/parallel_apply.py:79: FutureWarning: `torch.cuda.amp.autocast(args...)` is deprecated. Please use `torch.amp.autocast('cuda', args...)` instead.\n",
      "  with torch.cuda.device(device), torch.cuda.stream(stream), autocast(enabled=autocast_enabled):\n",
      "/opt/conda/lib/python3.11/site-packages/torch/nn/parallel/_functions.py:68: UserWarning: Was asked to gather along dimension 0, but all input tensors were scalars; will instead unsqueeze and return a vector.\n",
      "  warnings.warn('Was asked to gather along dimension 0, but all '\n",
      "/opt/conda/lib/python3.11/site-packages/torch/nn/parallel/parallel_apply.py:79: FutureWarning: `torch.cuda.amp.autocast(args...)` is deprecated. Please use `torch.amp.autocast('cuda', args...)` instead.\n",
      "  with torch.cuda.device(device), torch.cuda.stream(stream), autocast(enabled=autocast_enabled):\n",
      "/opt/conda/lib/python3.11/site-packages/torch/nn/parallel/_functions.py:68: UserWarning: Was asked to gather along dimension 0, but all input tensors were scalars; will instead unsqueeze and return a vector.\n",
      "  warnings.warn('Was asked to gather along dimension 0, but all '\n",
      "/opt/conda/lib/python3.11/site-packages/torch/nn/parallel/parallel_apply.py:79: FutureWarning: `torch.cuda.amp.autocast(args...)` is deprecated. Please use `torch.amp.autocast('cuda', args...)` instead.\n",
      "  with torch.cuda.device(device), torch.cuda.stream(stream), autocast(enabled=autocast_enabled):\n",
      "/opt/conda/lib/python3.11/site-packages/torch/nn/parallel/_functions.py:68: UserWarning: Was asked to gather along dimension 0, but all input tensors were scalars; will instead unsqueeze and return a vector.\n",
      "  warnings.warn('Was asked to gather along dimension 0, but all '\n"
     ]
    },
    {
     "data": {
      "text/plain": [
       "TrainOutput(global_step=910, training_loss=0.2703907683655456, metrics={'train_runtime': 264.191, 'train_samples_per_second': 219.292, 'train_steps_per_second': 3.444, 'total_flos': 1213029987441060.0, 'train_loss': 0.2703907683655456, 'epoch': 5.0})"
      ]
     },
     "execution_count": 10,
     "metadata": {},
     "output_type": "execute_result"
    }
   ],
   "source": [
    "train_encodings_slots = tokenizer(train_sentences, padding=True, truncation=True, return_tensors=\"pt\")\n",
    "test_encodings_slots = tokenizer(test_sentences, padding=True, truncation=True, return_tensors=\"pt\")\n",
    "\n",
    "train_adjusted_labels, train_new_label = align_labels_with_iob_and_collect_set(train_encodings_slots, train_slots, tokenizer)\n",
    "test_adjusted_labels, test_new_label = align_labels_with_iob_and_collect_set(test_encodings_slots, test_slots, tokenizer)\n",
    "\n",
    "all_label_corpus = set(corpus.all_slots())\n",
    "all_label_corpus.update(train_new_label)\n",
    "all_label_corpus.update(test_new_label)\n",
    "\n",
    "slot_label_mapping = {slot: i for i, slot in enumerate(all_label_corpus)}\n",
    "train_slot_labels = [[slot_label_mapping[tag] for tag in tags] for tags in train_slots]\n",
    "test_slot_labels = [[slot_label_mapping[tag] for tag in tags] for tags in test_slots]\n",
    "\n",
    "train_max_len = max(len(encoding) for encoding in train_encodings_slots['input_ids'])\n",
    "train_slot_labels = torch.tensor(pad_labels(train_slot_labels, train_max_len))\n",
    "\n",
    "test_max_len = max(len(encoding) for encoding in test_encodings_slots['input_ids'])\n",
    "test_slot_labels = torch.tensor(pad_labels(test_slot_labels, test_max_len))\n",
    "\n",
    "train_dataset_slots = Dataset.from_dict({\n",
    "    \"input_ids\": train_encodings_slots[\"input_ids\"],\n",
    "    \"attention_mask\": train_encodings_slots[\"attention_mask\"],\n",
    "    \"labels\": train_slot_labels\n",
    "})\n",
    "\n",
    "test_dataset_slots = Dataset.from_dict({\n",
    "    \"input_ids\": test_encodings_slots[\"input_ids\"],\n",
    "    \"attention_mask\": test_encodings_slots[\"attention_mask\"],\n",
    "    \"labels\": test_slot_labels\n",
    "})\n",
    "\n",
    "train_dataset_slots = train_dataset_slots.map(encode_examples_slots, batched=True)\n",
    "test_dataset_slots = test_dataset_slots.map(encode_examples_slots, batched=True)\n",
    "\n",
    "model_slots = BertForTokenClassification.from_pretrained(\"bert-base-uncased\", num_labels=len(slot_label_mapping))\n",
    "\n",
    "training_args_slots = TrainingArguments(\n",
    "    output_dir=\"./slot_filling_results\",\n",
    "    learning_rate=2e-5,\n",
    "    per_device_train_batch_size=16,\n",
    "    per_device_eval_batch_size=16,\n",
    "    num_train_epochs=5,\n",
    "    eval_strategy=\"epoch\",\n",
    "    logging_dir='./logs',\n",
    "    report_to=[],\n",
    ")\n",
    "\n",
    "trainer_slots = Trainer(\n",
    "    model=model_slots,\n",
    "    args=training_args_slots,\n",
    "    train_dataset=train_dataset_slots, \n",
    "    eval_dataset=test_dataset_slots,\n",
    "    compute_metrics=compute_metrics_slots\n",
    ")\n",
    "\n",
    "trainer_slots.train()\n"
   ]
  },
  {
   "cell_type": "markdown",
   "id": "cadce61d-efab-456d-9aa9-11bb89bd2f03",
   "metadata": {},
   "source": [
    "In der nachfolgenden Zelle wird eine Funktion definiert, mit der wir auf einen Satz eine getrennte Vorhersage mit den zwei Modellen durchführen können. Danach werden mehrere Sätze angegeben, um die die Modelle zu testen.\n",
    "Die Funktion erwartet einen Satz, ein Modell für die Intent Detection, eines für das Slot Filling, einen Tokenizer und das Gerät auf dem die Vorhersagen ausgeführt werden sollen.\n",
    "In der Funktion wird zunächst der Satz codiert und auf das gewählte Gerät verschoben. Danach wird der Satz an beide Modelle übergeben und die Vorhersagen ausgegeben. Die Modelle werden für die Verwendung in den Evaluierungsmodus versetzt und auf das gewählte Gerät, in der Regel die GPU, verschoben."
   ]
  },
  {
   "cell_type": "code",
   "execution_count": 19,
   "id": "8deaf0b4-e965-481b-bfce-25593518174e",
   "metadata": {
    "scrolled": true
   },
   "outputs": [
    {
     "name": "stdout",
     "output_type": "stream",
     "text": [
      "Sentence to inspect: Add Jimmy Hendrix to my metal playlist\n",
      "Predicted Intent: AddToPlaylist\n",
      "Predicted Slots: ['o', 'b-artist', 'i-artist', 'o', 'b-playlist_owner', 'b-playlist', 'o', 'PAD', 'PAD', 'PAD']\n",
      "\n",
      "Sentence to inspect: Book a table in the finest restaurant in Paris\n",
      "Predicted Intent: BookRestaurant\n",
      "Predicted Slots: ['o', 'o', 'o', 'o', 'o', 'b-sort', 'b-restaurant_type', 'o', 'b-country', 'PAD', 'PAD']\n",
      "\n",
      "Sentence to inspect: I want to book a flight to New York tomorrow morning.\n",
      "Predicted Intent: BookRestaurant\n",
      "Predicted Slots: ['o', 'o', 'o', 'o', 'o', 'o', 'o', 'b-country', 'i-city', 'b-timeRange', 'i-timeRange', 'o', 'PAD', 'PAD']\n",
      "\n",
      "Sentence to inspect: What's the weather in DC?\n",
      "Predicted Intent: GetWeather\n",
      "Predicted Slots: ['o', 'o', 'o', 'o', 'b-state', 'o', 'PAD', 'PAD', 'PAD', 'PAD']\n",
      "\n",
      "Sentence to inspect: How is the weather in DC?\n",
      "Predicted Intent: GetWeather\n",
      "Predicted Slots: ['o', 'o', 'o', 'o', 'o', 'b-state', 'o', 'PAD', 'PAD']\n",
      "\n"
     ]
    }
   ],
   "source": [
    "device = torch.device(\"cuda\" if torch.cuda.is_available() else \"cpu\")\n",
    "\n",
    "# Funktion für Intent Detection und Slot Filling\n",
    "def predict_intent_and_slots(sentence, model_intent, model_slots, tokenizer, device):\n",
    "    # Eingabe vorbereiten\n",
    "    inputs = tokenizer(sentence, return_tensors=\"pt\", padding=True, truncation=True).to(device)\n",
    "    \n",
    "    # Intent-Erkennung\n",
    "    model_intent.eval()\n",
    "    model_intent.to(device)\n",
    "    with torch.no_grad():\n",
    "        intent_outputs = model_intent(**inputs)\n",
    "    intent_prediction = torch.argmax(intent_outputs.logits, dim=1).item()\n",
    "    intent_label = list(intent_label_mapping.keys())[intent_prediction]\n",
    "\n",
    "    # Slot-Filling\n",
    "    model_slots.eval()\n",
    "    model_slots.to(device)\n",
    "    with torch.no_grad():\n",
    "        slot_outputs = model_slots(**inputs)\n",
    "    slot_predictions = torch.argmax(slot_outputs.logits, dim=-1).squeeze().tolist()\n",
    "    slot_tags = [list(slot_label_mapping.keys())[tag] for tag in slot_predictions]\n",
    "\n",
    "    print(f\"Sentence to inspect: {sentence}\")\n",
    "    print(f\"Predicted Intent: {intent_label}\")\n",
    "    print(f\"Predicted Slots: {slot_tags}\")\n",
    "    print()\n",
    "\n",
    "sentences = [\n",
    "    \"Add Jimmy Hendrix to my metal playlist\",\n",
    "    \"Book a table in the finest restaurant in Paris\",\n",
    "    \"I want to book a flight to New York tomorrow morning.\",\n",
    "    \"What's the weather in DC?\",\n",
    "    \"How is the weather in DC?\"\n",
    "]\n",
    "\n",
    "for sentence in sentences:\n",
    "    predict_intent_and_slots(\n",
    "        sentence, \n",
    "        model_intent, \n",
    "        model_slots, \n",
    "        tokenizer, \n",
    "        device\n",
    "    )\n"
   ]
  },
  {
   "cell_type": "markdown",
   "id": "be007fb7-014f-4d7b-8cf5-a769aad3c27c",
   "metadata": {},
   "source": [
    "### Der Joint Ansatz"
   ]
  },
  {
   "cell_type": "markdown",
   "id": "c4bf2ec9-ebef-4da0-9f63-d124b7a57133",
   "metadata": {},
   "source": [
    "Nachdem wir zuvor zwei getrennte Modelle für die Vorhersage verwendet haben, wird dies im nächsten Abschnitt von einem Modell gemacht. Diese herangehensweise nennt sich 'Joint' Intent detection und Slot filling, da hier die beiden Vorhersagen vereint (joint) sind.\n",
    "Dafür wird wieder ein BERT Modell verwendet. Für diese Aufgabe bietet HuggingFace kein fertiges Modell an. Daher wird für dieses Beispiel die Implementierung eines Joint BERT Modells von [Jang Won Park](https://github.com/monologg) verwendet. Die Implementierung des Modells stammt aus seinem GitHub [Repository](https://github.com/monologg/JointBERT) [11] und basiert auf einem Paper von ....."
   ]
  },
  {
   "cell_type": "markdown",
   "id": "77e27ad3-dedd-4610-9a44-576678cc50a7",
   "metadata": {},
   "source": [
    "Quellen:\n",
    "\n",
    "* 11: Jang Won Park, JointBERT, 2020, [Online: https://github.com/monologg/JointBERT, 25.06.2025]"
   ]
  },
  {
   "cell_type": "code",
   "execution_count": 25,
   "id": "f2293026-072f-4e0b-ad79-c519d8cdfaa2",
   "metadata": {},
   "outputs": [],
   "source": [
    "import sys\n",
    "import uuid\n",
    "import json\n",
    "import logging\n",
    "import copy\n",
    "from argparse import Namespace\n",
    "import numpy as np\n",
    "import torch.nn as nn\n",
    "import torch\n",
    "from transformers import BertPreTrainedModel, BertModel, BertConfig, DataCollatorWithPadding\n",
    "from torch.utils.data import TensorDataset\n",
    "try:\n",
    "    from torchcrf import CRF\n",
    "except ModuleNotFoundError:\n",
    "    !{sys.executable} -m pip install pytorch-crf\n",
    "    from torchcrf import CRF"
   ]
  },
  {
   "cell_type": "markdown",
   "id": "ff922d05-4282-4309-874a-f20096cd7684",
   "metadata": {},
   "source": [
    "Wie zuvor auch werden zuerst einige Hilfsklassen und Funktion definiert.\n",
    "\n",
    "Die `InputExample` Klasse dient der Speicherung eines Datensatzes. Dieser wird durch eine `Id` identifiziert und enthält die Wörter des Satzes, das Intent Label und die Slot Label in uncodierter Form.\n",
    "\n",
    "Die `InputFeature` Klasse repräsentiert ein `InputExample` in codierter Form.\n",
    "\n",
    "Die Klasse `JointProcessor` wandelt die rohen Daten, in diesem Beispiel die Daten aus dem Corpus, in InputExamples um.\n",
    "\n",
    "Mit der Funktion `` werden zuletzt die `InputExample`s in `InputFeature`s umgewandelt. Dies geschieht ähnlich zu den vorherigen Beispielen mit Tokenisierung und Padding."
   ]
  },
  {
   "cell_type": "code",
   "execution_count": 13,
   "id": "858ef172-5819-4121-89bd-801f5bc8a722",
   "metadata": {},
   "outputs": [],
   "source": [
    "logger = logging.getLogger(__name__)\n",
    "\n",
    "class InputExample(object):\n",
    "    \"\"\"\n",
    "    A single training/test example for simple sequence classification.\n",
    "\n",
    "    Args:\n",
    "        guid: Unique id for the example.\n",
    "        words: list. The words of the sequence.\n",
    "        intent_label: (Optional) string. The intent label of the example.\n",
    "        slot_labels: (Optional) list. The slot labels of the example.\n",
    "    \"\"\"\n",
    "\n",
    "    def __init__(self, guid, words, intent_label=None, slot_labels=None):\n",
    "        self.guid = guid\n",
    "        self.words = words\n",
    "        self.intent_label = intent_label\n",
    "        self.slot_labels = slot_labels\n",
    "\n",
    "    def __repr__(self):\n",
    "        return str(self.to_json_string())\n",
    "\n",
    "    def to_dict(self):\n",
    "        \"\"\"Serializes this instance to a Python dictionary.\"\"\"\n",
    "        output = copy.deepcopy(self.__dict__)\n",
    "        return output\n",
    "\n",
    "    def to_json_string(self):\n",
    "        \"\"\"Serializes this instance to a JSON string.\"\"\"\n",
    "        return json.dumps(self.to_dict(), indent=2, sort_keys=True) + \"\\n\"\n",
    "\n",
    "\n",
    "class InputFeature(object):\n",
    "    \"\"\"A single set of features of data.\"\"\"\n",
    "\n",
    "    def __init__(self, input_ids, attention_mask, token_type_ids, intent_label_id, slot_labels_ids):\n",
    "        self.input_ids = input_ids\n",
    "        self.attention_mask = attention_mask\n",
    "        self.token_type_ids = token_type_ids\n",
    "        self.intent_label_id = intent_label_id\n",
    "        self.slot_labels_ids = slot_labels_ids\n",
    "\n",
    "    def __repr__(self):\n",
    "        return str(self.to_json_string())\n",
    "\n",
    "    def to_dict(self):\n",
    "        \"\"\"Serializes this instance to a Python dictionary.\"\"\"\n",
    "        output = copy.deepcopy(self.__dict__)\n",
    "        return output\n",
    "\n",
    "    def to_json_string(self):\n",
    "        \"\"\"Serializes this instance to a JSON string.\"\"\"\n",
    "        return json.dumps(self.to_dict(), indent=2, sort_keys=True) + \"\\n\"\n",
    "\n",
    "\n",
    "class JointProcessor(object):\n",
    "    \"\"\"Processor for the JointBERT data set \"\"\"\n",
    "\n",
    "    def __init__(self, intent_labels, slot_labels):\n",
    "        self.intent_labels = intent_labels\n",
    "        self.slot_labels = slot_labels\n",
    "\n",
    "    def create_examples(self, texts, intents, slots):\n",
    "        examples = []\n",
    "        for i, (text, intent, slot) in enumerate(zip(texts, intents, slots)):\n",
    "            guid = i\n",
    "            # 1. input_text\n",
    "            words = text.split()\n",
    "            # 2. intent\n",
    "            intent_label = self.intent_labels.index(intent) if intent in self.intent_labels else self.intent_labels.index(\"UNK\")\n",
    "            # 3. slot\n",
    "            slot_labels = []\n",
    "            for s in slot:\n",
    "                slot_labels.append(self.slot_labels.index(s) if s in self.slot_labels else self.slot_labels.index(\"UNK\"))\n",
    "\n",
    "            if (len(words) != len(slot_labels)):\n",
    "                continue\n",
    "            examples.append(InputExample(guid=guid, words=words, intent_label=intent_label, slot_labels=slot_labels))\n",
    "        return examples\n",
    "\n",
    "        \n",
    "def convert_examples_to_features(examples, max_seq_len, tokenizer,\n",
    "                                 pad_token_label_id=-100,\n",
    "                                 cls_token_segment_id=0,\n",
    "                                 pad_token_segment_id=0,\n",
    "                                 sequence_a_segment_id=0,\n",
    "                                 mask_padding_with_zero=True):\n",
    "    \n",
    "    # Setting based on the current model type\n",
    "    cls_token = tokenizer.cls_token\n",
    "    sep_token = tokenizer.sep_token\n",
    "    unk_token = tokenizer.unk_token\n",
    "    pad_token_id = tokenizer.pad_token_id\n",
    "\n",
    "    features = []\n",
    "    for (ex_index, example) in enumerate(examples):\n",
    "        if ex_index % 5000 == 0:\n",
    "            logger.info(\"Writing example %d of %d\" % (ex_index, len(examples)))\n",
    "\n",
    "        # Tokenize word by word (for NER)\n",
    "        tokens = []\n",
    "        slot_labels_ids = []\n",
    "        for word, slot_label in zip(example.words, example.slot_labels):\n",
    "            word_tokens = tokenizer.tokenize(word)\n",
    "            if not word_tokens:\n",
    "                word_tokens = [unk_token]  # For handling the bad-encoded word\n",
    "            tokens.extend(word_tokens)\n",
    "            # Use the real label id for the first token of the word, and padding ids for the remaining tokens\n",
    "            slot_labels_ids.extend([int(slot_label)] + [pad_token_label_id] * (len(word_tokens) - 1))\n",
    "\n",
    "        # Account for [CLS] and [SEP]\n",
    "        special_tokens_count = 2\n",
    "        if len(tokens) > max_seq_len - special_tokens_count:\n",
    "            tokens = tokens[:(max_seq_len - special_tokens_count)]\n",
    "            slot_labels_ids = slot_labels_ids[:(max_seq_len - special_tokens_count)]\n",
    "\n",
    "        # Add [SEP] token\n",
    "        tokens += [sep_token]\n",
    "        slot_labels_ids += [pad_token_label_id]\n",
    "        token_type_ids = [sequence_a_segment_id] * len(tokens)\n",
    "\n",
    "        # Add [CLS] token\n",
    "        tokens = [cls_token] + tokens\n",
    "        slot_labels_ids = [pad_token_label_id] + slot_labels_ids\n",
    "        token_type_ids = [cls_token_segment_id] + token_type_ids\n",
    "\n",
    "        input_ids = tokenizer.convert_tokens_to_ids(tokens)\n",
    "\n",
    "        # The mask has 1 for real tokens and 0 for padding tokens. Only real\n",
    "        # tokens are attended to.\n",
    "        attention_mask = [1 if mask_padding_with_zero else 0] * len(input_ids)\n",
    "\n",
    "        # Zero-pad up to the sequence length.\n",
    "        padding_length = max_seq_len - len(input_ids)\n",
    "        input_ids = input_ids + ([pad_token_id] * padding_length)\n",
    "        attention_mask = attention_mask + ([0 if mask_padding_with_zero else 1] * padding_length)\n",
    "        token_type_ids = token_type_ids + ([pad_token_segment_id] * padding_length)\n",
    "        slot_labels_ids = slot_labels_ids + ([pad_token_label_id] * padding_length)\n",
    "\n",
    "        assert len(input_ids) == max_seq_len, \"Error with input length {} vs {}\".format(len(input_ids), max_seq_len)\n",
    "        assert len(attention_mask) == max_seq_len, \"Error with attention mask length {} vs {}\".format(len(attention_mask), max_seq_len)\n",
    "        assert len(token_type_ids) == max_seq_len, \"Error with token type length {} vs {}\".format(len(token_type_ids), max_seq_len)\n",
    "        assert len(slot_labels_ids) == max_seq_len, \"Error with slot labels length {} vs {}\".format(len(slot_labels_ids), max_seq_len)\n",
    "\n",
    "        intent_label_id = int(example.intent_label)\n",
    "\n",
    "        if ex_index < 5:\n",
    "            logger.info(\"*** Example ***\")\n",
    "            logger.info(\"guid: %s\" % example.guid)\n",
    "            logger.info(\"tokens: %s\" % \" \".join([str(x) for x in tokens]))\n",
    "            logger.info(\"input_ids: %s\" % \" \".join([str(x) for x in input_ids]))\n",
    "            logger.info(\"attention_mask: %s\" % \" \".join([str(x) for x in attention_mask]))\n",
    "            logger.info(\"token_type_ids: %s\" % \" \".join([str(x) for x in token_type_ids]))\n",
    "            logger.info(\"intent_label: %s (id = %d)\" % (example.intent_label, intent_label_id))\n",
    "            logger.info(\"slot_labels: %s\" % \" \".join([str(x) for x in slot_labels_ids]))\n",
    "\n",
    "        features.append(\n",
    "            InputFeature(input_ids=input_ids,\n",
    "                          attention_mask=attention_mask,\n",
    "                          token_type_ids=token_type_ids,\n",
    "                          intent_label_id=intent_label_id,\n",
    "                          slot_labels_ids=slot_labels_ids\n",
    "                          ))\n",
    "\n",
    "    return features"
   ]
  },
  {
   "cell_type": "markdown",
   "id": "97492a4d-766d-4289-a6d4-379edb1e1ee2",
   "metadata": {},
   "source": [
    "In dieser Zelle werden die KLassifikationsköpfe für das Bert-Modell definiert. Sie bestehen aus einer `Dropout` und einer `Linearen` Schicht."
   ]
  },
  {
   "cell_type": "code",
   "execution_count": 14,
   "id": "65bdd3b4-3266-4ef4-95d4-f2a1a927991e",
   "metadata": {},
   "outputs": [],
   "source": [
    "class IntentClassifier(nn.Module):\n",
    "    def __init__(self, input_dim, num_intent_labels, dropout_rate=0.):\n",
    "        super(IntentClassifier, self).__init__()\n",
    "        self.dropout = nn.Dropout(dropout_rate)\n",
    "        self.linear = nn.Linear(input_dim, num_intent_labels)\n",
    "\n",
    "    def forward(self, x):\n",
    "        x = self.dropout(x)\n",
    "        return self.linear(x)\n",
    "\n",
    "\n",
    "class SlotClassifier(nn.Module):\n",
    "    def __init__(self, input_dim, num_slot_labels, dropout_rate=0.):\n",
    "        super(SlotClassifier, self).__init__()\n",
    "        self.dropout = nn.Dropout(dropout_rate)\n",
    "        self.linear = nn.Linear(input_dim, num_slot_labels)\n",
    "\n",
    "    def forward(self, x):\n",
    "        x = self.dropout(x)\n",
    "        return self.linear(x)"
   ]
  },
  {
   "cell_type": "markdown",
   "id": "3359cc40-e649-4709-b511-bb28b10d9ccb",
   "metadata": {},
   "source": [
    "Hier wird auf der Basis des BertPreTrainedModels das `JointBERT` Modell definiert."
   ]
  },
  {
   "cell_type": "code",
   "execution_count": 15,
   "id": "e92fdbb1-8447-4029-b1ef-e3f3c831f591",
   "metadata": {},
   "outputs": [],
   "source": [
    "class JointBERT(BertPreTrainedModel):\n",
    "    def __init__(self, config, args, intent_label_lst, slot_label_lst):\n",
    "        super(JointBERT, self).__init__(config)\n",
    "        self.args = args\n",
    "        self.num_intent_labels = len(intent_label_lst)\n",
    "        self.num_slot_labels = len(slot_label_lst)\n",
    "        self.bert = BertModel(config=config)\n",
    "\n",
    "        self.intent_classifier = IntentClassifier(config.hidden_size, self.num_intent_labels, args.dropout_rate)\n",
    "        self.slot_classifier = SlotClassifier(config.hidden_size, self.num_slot_labels, args.dropout_rate)\n",
    "\n",
    "        if args.use_crf:\n",
    "            self.crf = CRF(num_tags=self.num_slot_labels, batch_first=True)\n",
    "\n",
    "    def forward(self, input_ids, attention_mask, token_type_ids, intent_label_ids, slot_labels_ids):\n",
    "        outputs = self.bert(input_ids, attention_mask=attention_mask,\n",
    "                            token_type_ids=token_type_ids)  # sequence_output, pooled_output, (hidden_states), (attentions)\n",
    "        sequence_output = outputs[0]\n",
    "        pooled_output = outputs[1]  # [CLS]\n",
    "\n",
    "        intent_logits = self.intent_classifier(pooled_output)\n",
    "        slot_logits = self.slot_classifier(sequence_output)\n",
    "\n",
    "        total_loss = 0\n",
    "        # 1. Intent Softmax\n",
    "        if intent_label_ids is not None:\n",
    "            if self.num_intent_labels == 1:\n",
    "                intent_loss_fct = nn.MSELoss()\n",
    "                intent_loss = intent_loss_fct(intent_logits.view(-1), intent_label_ids.view(-1))\n",
    "            else:\n",
    "                intent_loss_fct = nn.CrossEntropyLoss()\n",
    "                intent_loss = intent_loss_fct(intent_logits.view(-1, self.num_intent_labels), intent_label_ids.view(-1))\n",
    "            total_loss += intent_loss\n",
    "\n",
    "        # 2. Slot Softmax\n",
    "        if slot_labels_ids is not None:\n",
    "            if self.args.use_crf:\n",
    "                slot_loss = self.crf(slot_logits, slot_labels_ids, mask=attention_mask.byte(), reduction='mean')\n",
    "                slot_loss = -1 * slot_loss  # negative log-likelihood\n",
    "            else:\n",
    "                slot_loss_fct = nn.CrossEntropyLoss(ignore_index=self.args.ignore_index)\n",
    "                # Only keep active parts of the loss\n",
    "                if attention_mask is not None:\n",
    "                    active_loss = attention_mask.view(-1) == 1\n",
    "                    active_logits = slot_logits.view(-1, self.num_slot_labels)[active_loss]\n",
    "                    active_labels = slot_labels_ids.view(-1)[active_loss]\n",
    "                    slot_loss = slot_loss_fct(active_logits, active_labels)\n",
    "                else:\n",
    "                    slot_loss = slot_loss_fct(slot_logits.view(-1, self.num_slot_labels), slot_labels_ids.view(-1))\n",
    "            total_loss += self.args.slot_loss_coef * slot_loss\n",
    "\n",
    "        outputs = ((intent_logits, slot_logits),) + outputs[2:]  # add hidden states and attention if they are here\n",
    "\n",
    "        outputs = (total_loss,) + outputs\n",
    "\n",
    "        return outputs"
   ]
  },
  {
   "cell_type": "markdown",
   "id": "850e1268-d973-46a3-b380-56c19769fdce",
   "metadata": {},
   "source": [
    "Das `JointDataset` stellt die zuvor erstellten Features als Dataset zur Verfügung."
   ]
  },
  {
   "cell_type": "code",
   "execution_count": 16,
   "id": "95d58d5d-4f99-4321-b0bb-d7cef4f0f958",
   "metadata": {},
   "outputs": [],
   "source": [
    "class JointDataset(torch.utils.data.Dataset):\n",
    "    def __init__(self, features):\n",
    "        self.features = features\n",
    "\n",
    "    def __len__(self):\n",
    "        return len(self.features)\n",
    "\n",
    "    def __getitem__(self, idx):\n",
    "        feature = self.features[idx]\n",
    "        return {\n",
    "            \"input_ids\": torch.tensor(feature.input_ids, dtype=torch.long),\n",
    "            \"attention_mask\": torch.tensor(feature.attention_mask, dtype=torch.long),\n",
    "            \"token_type_ids\": torch.tensor(feature.token_type_ids, dtype=torch.long),\n",
    "            \"intent_label_ids\": torch.tensor(feature.intent_label_id, dtype=torch.long),\n",
    "            \"slot_labels_ids\": torch.tensor(feature.slot_labels_ids, dtype=torch.long),\n",
    "        }"
   ]
  },
  {
   "cell_type": "markdown",
   "id": "d0bd2e1f-d72b-46db-ae9a-79e00a72af65",
   "metadata": {},
   "source": [
    "Die bereits bekannte `compute_metrics` Funktion berechnet wieder Precision, Recall und F1-Score. Hier aber für die Intents und Slots in einer Funktion."
   ]
  },
  {
   "cell_type": "code",
   "execution_count": 37,
   "id": "47eac5da-3abf-4dd2-8792-d428cf003f57",
   "metadata": {},
   "outputs": [],
   "source": [
    "def compute_metrics_joint(pred):\n",
    "    intent_logits, slot_logits   = pred.predictions\n",
    "    intent_labels, slot_labels   = pred.label_ids\n",
    "\n",
    "    intent_preds = intent_logits.argmax(axis=-1)\n",
    "    slot_preds   = slot_logits.argmax(axis=-1)\n",
    "\n",
    "    PAD_ID = -100\n",
    "    true_slot_labels, true_slot_preds = [], []\n",
    "    for lab_seq, pred_seq in zip(slot_labels, slot_preds):\n",
    "        for l, p in zip(lab_seq, pred_seq):\n",
    "            if l != PAD_ID:\n",
    "                true_slot_labels.append(l)\n",
    "                true_slot_preds.append(p)\n",
    "\n",
    "    # Berechne Precision, Recall und F1-Score\n",
    "    intent_precision = precision_score(intent_labels, intent_preds, average=\"weighted\", zero_division=0)\n",
    "    intent_recall    = recall_score( intent_labels, intent_preds, average=\"weighted\", zero_division=0)\n",
    "    intent_f1        = f1_score(     intent_labels, intent_preds, average=\"weighted\", zero_division=0)\n",
    "\n",
    "    slot_precision   = precision_score(true_slot_labels, true_slot_preds, average=\"weighted\", zero_division=0)\n",
    "    slot_recall      = recall_score(   true_slot_labels, true_slot_preds, average=\"weighted\", zero_division=0)\n",
    "    slot_f1          = f1_score(       true_slot_labels, true_slot_preds, average=\"weighted\", zero_division=0)\n",
    "\n",
    "    return {\n",
    "        \"intent_precision\": intent_precision,\n",
    "        \"intent_recall\":    intent_recall,\n",
    "        \"intent_f1\":        intent_f1,\n",
    "        \"slot_precision\":   slot_precision,\n",
    "        \"slot_recall\":      slot_recall,\n",
    "        \"slot_f1\":          slot_f1\n",
    "    }\n"
   ]
  },
  {
   "cell_type": "markdown",
   "id": "52e548a4-564f-424c-984b-8e2a051fa8bb",
   "metadata": {},
   "source": [
    "Da alle notwendigen Klassen und Funktionen definiert sind. Kann jetzt mit dem Training des Modells begonnen werden. Dafür werden zunächst die Daten vorbereitet.\n",
    "\n",
    "Dafür werden zunächst die Daten aus dem Corpus mit dem `JointProcessor` in `InputExample`s konvertiert und anschließend in `InputFeature`s konvertiert. Danach werden 30% der Features als Testdatensatz abgetrennt. Die jetzt vorliegenden Trainings- und Testdaten werden zuletzt als `JointDataset`s initialisiert."
   ]
  },
  {
   "cell_type": "code",
   "execution_count": 21,
   "id": "1838359c-8c03-406e-9476-03c4dd28ea1d",
   "metadata": {},
   "outputs": [],
   "source": [
    "processor = JointProcessor(corpus.all_labels(), corpus.all_slots())\n",
    "examples = processor.create_examples(corpus.sentences(), corpus.intents(), corpus.slots())\n",
    "\n",
    "features = convert_examples_to_features(examples=examples, max_seq_len=100, tokenizer=tokenizer)\n",
    "train_features, test_features = train_test_split(features, test_size=0.3, random_state=42)\n",
    "\n",
    "train_joint_dataset = JointDataset(train_features)\n",
    "test_joint_dataset = JointDataset(test_features)"
   ]
  },
  {
   "cell_type": "markdown",
   "id": "c86aab92-70ce-4c63-b90a-88a7e30b33c9",
   "metadata": {},
   "source": [
    "Als letzten Schritt wird wieder nach dem bereits bekannte Muster das Modell initialisiert und mit dem Hugging Face `Trainer` trainiert."
   ]
  },
  {
   "cell_type": "code",
   "execution_count": 38,
   "id": "175f2788-e6a8-457d-a7a2-7d289db00ab1",
   "metadata": {},
   "outputs": [
    {
     "name": "stderr",
     "output_type": "stream",
     "text": [
      "Some weights of JointBERT were not initialized from the model checkpoint at bert-base-uncased and are newly initialized: ['intent_classifier.linear.bias', 'intent_classifier.linear.weight', 'slot_classifier.linear.bias', 'slot_classifier.linear.weight']\n",
      "You should probably TRAIN this model on a down-stream task to be able to use it for predictions and inference.\n",
      "/tmp/ipykernel_128/2544174399.py:25: FutureWarning: `tokenizer` is deprecated and will be removed in version 5.0.0 for `Trainer.__init__`. Use `processing_class` instead.\n",
      "  trainer_joint = Trainer(\n",
      "/opt/conda/lib/python3.11/site-packages/torch/nn/parallel/parallel_apply.py:79: FutureWarning: `torch.cuda.amp.autocast(args...)` is deprecated. Please use `torch.amp.autocast('cuda', args...)` instead.\n",
      "  with torch.cuda.device(device), torch.cuda.stream(stream), autocast(enabled=autocast_enabled):\n",
      "/opt/conda/lib/python3.11/site-packages/torch/nn/parallel/_functions.py:68: UserWarning: Was asked to gather along dimension 0, but all input tensors were scalars; will instead unsqueeze and return a vector.\n",
      "  warnings.warn('Was asked to gather along dimension 0, but all '\n"
     ]
    },
    {
     "data": {
      "text/html": [
       "\n",
       "    <div>\n",
       "      \n",
       "      <progress value='795' max='795' style='width:300px; height:20px; vertical-align: middle;'></progress>\n",
       "      [795/795 03:52, Epoch 5/5]\n",
       "    </div>\n",
       "    <table border=\"1\" class=\"dataframe\">\n",
       "  <thead>\n",
       " <tr style=\"text-align: left;\">\n",
       "      <th>Epoch</th>\n",
       "      <th>Training Loss</th>\n",
       "      <th>Validation Loss</th>\n",
       "      <th>Intent Precision</th>\n",
       "      <th>Intent Recall</th>\n",
       "      <th>Intent F1</th>\n",
       "      <th>Slot Precision</th>\n",
       "      <th>Slot Recall</th>\n",
       "      <th>Slot F1</th>\n",
       "    </tr>\n",
       "  </thead>\n",
       "  <tbody>\n",
       "    <tr>\n",
       "      <td>1</td>\n",
       "      <td>No log</td>\n",
       "      <td>0.714731</td>\n",
       "      <td>0.982295</td>\n",
       "      <td>0.982283</td>\n",
       "      <td>0.982222</td>\n",
       "      <td>0.847303</td>\n",
       "      <td>0.880441</td>\n",
       "      <td>0.856163</td>\n",
       "    </tr>\n",
       "    <tr>\n",
       "      <td>2</td>\n",
       "      <td>No log</td>\n",
       "      <td>0.315927</td>\n",
       "      <td>0.982829</td>\n",
       "      <td>0.982513</td>\n",
       "      <td>0.982540</td>\n",
       "      <td>0.935509</td>\n",
       "      <td>0.946192</td>\n",
       "      <td>0.938009</td>\n",
       "    </tr>\n",
       "    <tr>\n",
       "      <td>3</td>\n",
       "      <td>No log</td>\n",
       "      <td>0.236066</td>\n",
       "      <td>0.984659</td>\n",
       "      <td>0.984584</td>\n",
       "      <td>0.984599</td>\n",
       "      <td>0.958320</td>\n",
       "      <td>0.960876</td>\n",
       "      <td>0.957013</td>\n",
       "    </tr>\n",
       "    <tr>\n",
       "      <td>4</td>\n",
       "      <td>1.014800</td>\n",
       "      <td>0.215036</td>\n",
       "      <td>0.984357</td>\n",
       "      <td>0.984353</td>\n",
       "      <td>0.984307</td>\n",
       "      <td>0.962690</td>\n",
       "      <td>0.964874</td>\n",
       "      <td>0.962443</td>\n",
       "    </tr>\n",
       "    <tr>\n",
       "      <td>5</td>\n",
       "      <td>1.014800</td>\n",
       "      <td>0.204631</td>\n",
       "      <td>0.985743</td>\n",
       "      <td>0.985734</td>\n",
       "      <td>0.985717</td>\n",
       "      <td>0.963699</td>\n",
       "      <td>0.966257</td>\n",
       "      <td>0.963663</td>\n",
       "    </tr>\n",
       "  </tbody>\n",
       "</table><p>"
      ],
      "text/plain": [
       "<IPython.core.display.HTML object>"
      ]
     },
     "metadata": {},
     "output_type": "display_data"
    },
    {
     "name": "stderr",
     "output_type": "stream",
     "text": [
      "/opt/conda/lib/python3.11/site-packages/sklearn/metrics/_classification.py:1469: UndefinedMetricWarning: Precision is ill-defined and being set to 0.0 in labels with no predicted samples. Use `zero_division` parameter to control this behavior.\n",
      "  _warn_prf(average, modifier, msg_start, len(result))\n",
      "/opt/conda/lib/python3.11/site-packages/torch/nn/parallel/parallel_apply.py:79: FutureWarning: `torch.cuda.amp.autocast(args...)` is deprecated. Please use `torch.amp.autocast('cuda', args...)` instead.\n",
      "  with torch.cuda.device(device), torch.cuda.stream(stream), autocast(enabled=autocast_enabled):\n",
      "/opt/conda/lib/python3.11/site-packages/torch/nn/parallel/_functions.py:68: UserWarning: Was asked to gather along dimension 0, but all input tensors were scalars; will instead unsqueeze and return a vector.\n",
      "  warnings.warn('Was asked to gather along dimension 0, but all '\n",
      "/opt/conda/lib/python3.11/site-packages/sklearn/metrics/_classification.py:1469: UndefinedMetricWarning: Precision is ill-defined and being set to 0.0 in labels with no predicted samples. Use `zero_division` parameter to control this behavior.\n",
      "  _warn_prf(average, modifier, msg_start, len(result))\n",
      "/opt/conda/lib/python3.11/site-packages/torch/nn/parallel/parallel_apply.py:79: FutureWarning: `torch.cuda.amp.autocast(args...)` is deprecated. Please use `torch.amp.autocast('cuda', args...)` instead.\n",
      "  with torch.cuda.device(device), torch.cuda.stream(stream), autocast(enabled=autocast_enabled):\n",
      "/opt/conda/lib/python3.11/site-packages/torch/nn/parallel/_functions.py:68: UserWarning: Was asked to gather along dimension 0, but all input tensors were scalars; will instead unsqueeze and return a vector.\n",
      "  warnings.warn('Was asked to gather along dimension 0, but all '\n",
      "/opt/conda/lib/python3.11/site-packages/sklearn/metrics/_classification.py:1469: UndefinedMetricWarning: Precision is ill-defined and being set to 0.0 in labels with no predicted samples. Use `zero_division` parameter to control this behavior.\n",
      "  _warn_prf(average, modifier, msg_start, len(result))\n",
      "/opt/conda/lib/python3.11/site-packages/torch/nn/parallel/parallel_apply.py:79: FutureWarning: `torch.cuda.amp.autocast(args...)` is deprecated. Please use `torch.amp.autocast('cuda', args...)` instead.\n",
      "  with torch.cuda.device(device), torch.cuda.stream(stream), autocast(enabled=autocast_enabled):\n",
      "/opt/conda/lib/python3.11/site-packages/torch/nn/parallel/_functions.py:68: UserWarning: Was asked to gather along dimension 0, but all input tensors were scalars; will instead unsqueeze and return a vector.\n",
      "  warnings.warn('Was asked to gather along dimension 0, but all '\n",
      "/opt/conda/lib/python3.11/site-packages/torch/nn/parallel/parallel_apply.py:79: FutureWarning: `torch.cuda.amp.autocast(args...)` is deprecated. Please use `torch.amp.autocast('cuda', args...)` instead.\n",
      "  with torch.cuda.device(device), torch.cuda.stream(stream), autocast(enabled=autocast_enabled):\n",
      "/opt/conda/lib/python3.11/site-packages/torch/nn/parallel/_functions.py:68: UserWarning: Was asked to gather along dimension 0, but all input tensors were scalars; will instead unsqueeze and return a vector.\n",
      "  warnings.warn('Was asked to gather along dimension 0, but all '\n",
      "/opt/conda/lib/python3.11/site-packages/sklearn/metrics/_classification.py:1469: UndefinedMetricWarning: Precision is ill-defined and being set to 0.0 in labels with no predicted samples. Use `zero_division` parameter to control this behavior.\n",
      "  _warn_prf(average, modifier, msg_start, len(result))\n",
      "/opt/conda/lib/python3.11/site-packages/torch/nn/parallel/parallel_apply.py:79: FutureWarning: `torch.cuda.amp.autocast(args...)` is deprecated. Please use `torch.amp.autocast('cuda', args...)` instead.\n",
      "  with torch.cuda.device(device), torch.cuda.stream(stream), autocast(enabled=autocast_enabled):\n",
      "/opt/conda/lib/python3.11/site-packages/torch/nn/parallel/_functions.py:68: UserWarning: Was asked to gather along dimension 0, but all input tensors were scalars; will instead unsqueeze and return a vector.\n",
      "  warnings.warn('Was asked to gather along dimension 0, but all '\n",
      "/opt/conda/lib/python3.11/site-packages/torch/nn/parallel/parallel_apply.py:79: FutureWarning: `torch.cuda.amp.autocast(args...)` is deprecated. Please use `torch.amp.autocast('cuda', args...)` instead.\n",
      "  with torch.cuda.device(device), torch.cuda.stream(stream), autocast(enabled=autocast_enabled):\n",
      "/opt/conda/lib/python3.11/site-packages/torch/nn/parallel/_functions.py:68: UserWarning: Was asked to gather along dimension 0, but all input tensors were scalars; will instead unsqueeze and return a vector.\n",
      "  warnings.warn('Was asked to gather along dimension 0, but all '\n",
      "/opt/conda/lib/python3.11/site-packages/sklearn/metrics/_classification.py:1469: UndefinedMetricWarning: Precision is ill-defined and being set to 0.0 in labels with no predicted samples. Use `zero_division` parameter to control this behavior.\n",
      "  _warn_prf(average, modifier, msg_start, len(result))\n"
     ]
    },
    {
     "data": {
      "text/plain": [
       "TrainOutput(global_step=795, training_loss=0.697773853038092, metrics={'train_runtime': 233.7277, 'train_samples_per_second': 216.876, 'train_steps_per_second': 3.401, 'total_flos': 2606773295100000.0, 'train_loss': 0.697773853038092, 'epoch': 5.0})"
      ]
     },
     "execution_count": 38,
     "metadata": {},
     "output_type": "execute_result"
    }
   ],
   "source": [
    "device = torch.device(\"cuda\" if torch.cuda.is_available() else \"cpu\")\n",
    "\n",
    "intent_labels = set(corpus.all_labels())\n",
    "slot_labels = set(corpus.all_slots())\n",
    "\n",
    "model_name = \"bert-base-uncased\"\n",
    "joint_config = BertConfig.from_pretrained(model_name)\n",
    "joint_args = Namespace(dropout_rate=0.1, use_crf=False, ignore_index=-100, slot_loss_coef=1.0)\n",
    "model_joint = JointBERT.from_pretrained(model_name, config=joint_config, args=joint_args, intent_label_lst=intent_labels, slot_label_lst=slot_labels)\n",
    "model_joint.to(device)\n",
    "\n",
    "training_args_joint = TrainingArguments(\n",
    "    output_dir=\"./joint_results\",\n",
    "    learning_rate=2e-5,\n",
    "    per_device_train_batch_size=16,\n",
    "    per_device_eval_batch_size=16,\n",
    "    num_train_epochs=5,\n",
    "    eval_strategy=\"epoch\",\n",
    "    logging_dir='./logs',\n",
    "    report_to=[],\n",
    ")\n",
    "\n",
    "data_collator = DataCollatorWithPadding(tokenizer, pad_to_multiple_of=None)\n",
    "\n",
    "trainer_joint = Trainer(\n",
    "    model=model_joint,\n",
    "    args=training_args_joint,\n",
    "    tokenizer=tokenizer,\n",
    "    train_dataset=train_joint_dataset,\n",
    "    eval_dataset=test_joint_dataset,\n",
    "    compute_metrics=compute_metrics_joint\n",
    ")\n",
    "\n",
    "trainer_joint.train()"
   ]
  },
  {
   "cell_type": "markdown",
   "id": "fc0e3647-6347-4204-93e4-84a03fcbba93",
   "metadata": {},
   "source": [
    "https://arxiv.org/abs/1902.10909"
   ]
  },
  {
   "cell_type": "markdown",
   "id": "80078b75-1fb9-4126-8892-04b1cf7f86f5",
   "metadata": {},
   "source": [
    "## Zusammenfassung"
   ]
  },
  {
   "cell_type": "markdown",
   "id": "03984bd3-6f90-4530-a8b5-2286e5005bbf",
   "metadata": {},
   "source": []
  }
 ],
 "metadata": {
  "kernelspec": {
   "display_name": "Python 3 (ipykernel)",
   "language": "python",
   "name": "python3"
  },
  "language_info": {
   "codemirror_mode": {
    "name": "ipython",
    "version": 3
   },
   "file_extension": ".py",
   "mimetype": "text/x-python",
   "name": "python",
   "nbconvert_exporter": "python",
   "pygments_lexer": "ipython3",
   "version": "3.11.6"
  }
 },
 "nbformat": 4,
 "nbformat_minor": 5
}
